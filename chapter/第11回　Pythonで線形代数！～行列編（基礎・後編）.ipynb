{
  "nbformat": 4,
  "nbformat_minor": 0,
  "metadata": {
    "colab": {
      "provenance": [],
      "authorship_tag": "ABX9TyMh48c9nDfZh4Ok/c3jpK/O",
      "include_colab_link": true
    },
    "kernelspec": {
      "name": "python3",
      "display_name": "Python 3"
    },
    "language_info": {
      "name": "python"
    }
  },
  "cells": [
    {
      "cell_type": "markdown",
      "metadata": {
        "id": "view-in-github",
        "colab_type": "text"
      },
      "source": [
        "<a href=\"https://colab.research.google.com/github/orinbou/MathPythonColab/blob/main/chapter/%E7%AC%AC11%E5%9B%9E%E3%80%80Python%E3%81%A7%E7%B7%9A%E5%BD%A2%E4%BB%A3%E6%95%B0%EF%BC%81%EF%BD%9E%E8%A1%8C%E5%88%97%E7%B7%A8%EF%BC%88%E5%9F%BA%E7%A4%8E%E3%83%BB%E5%BE%8C%E7%B7%A8%EF%BC%89.ipynb\" target=\"_parent\"><img src=\"https://colab.research.google.com/assets/colab-badge.svg\" alt=\"Open In Colab\"/></a>"
      ]
    },
    {
      "cell_type": "markdown",
      "source": [
        "# 目標1： 行列の内積を求める"
      ],
      "metadata": {
        "id": "rJ1g6IDS_cCO"
      }
    },
    {
      "cell_type": "code",
      "source": [
        "import numpy as np\n",
        "\n",
        "A = np.array([[1, 2],\n",
        "              [3, 4]])\n",
        "B = np.array([[-2, 3],\n",
        "              [1, 5]])\n",
        "\n",
        "print(A @ B)\n",
        "print(np.dot(A, B))"
      ],
      "metadata": {
        "colab": {
          "base_uri": "https://localhost:8080/"
        },
        "id": "OlGK9Rax_ced",
        "outputId": "d0e45047-3971-4d0d-bbfc-89a91d6c6164"
      },
      "execution_count": null,
      "outputs": [
        {
          "output_type": "stream",
          "name": "stdout",
          "text": [
            "[[ 0 13]\n",
            " [-2 29]]\n",
            "[[ 0 13]\n",
            " [-2 29]]\n"
          ]
        }
      ]
    },
    {
      "cell_type": "code",
      "source": [
        "import numpy as np\n",
        "\n",
        "A = np.array([[1, 2, 3],\n",
        "              [4, 5, 6]])  # 2行3列\n",
        "B = np.array([[-2, 3, 4, -3],\n",
        "              [1, 5, 1, 2],\n",
        "              [-3, -1, 2, 4]])  # 3行4列\n",
        "\n",
        "print(A @ B)\n",
        "print(B @ A)"
      ],
      "metadata": {
        "colab": {
          "base_uri": "https://localhost:8080/",
          "height": 240
        },
        "id": "eRD3uOxuAliu",
        "outputId": "05e131c6-2fab-49f8-b544-86c1c566880e"
      },
      "execution_count": null,
      "outputs": [
        {
          "output_type": "stream",
          "name": "stdout",
          "text": [
            "[[ -9  10  12  13]\n",
            " [-21  31  33  22]]\n"
          ]
        },
        {
          "output_type": "error",
          "ename": "ValueError",
          "evalue": "ignored",
          "traceback": [
            "\u001b[0;31m---------------------------------------------------------------------------\u001b[0m",
            "\u001b[0;31mValueError\u001b[0m                                Traceback (most recent call last)",
            "\u001b[0;32m<ipython-input-4-e2e1efa3dd76>\u001b[0m in \u001b[0;36m<module>\u001b[0;34m\u001b[0m\n\u001b[1;32m      8\u001b[0m \u001b[0;34m\u001b[0m\u001b[0m\n\u001b[1;32m      9\u001b[0m \u001b[0mprint\u001b[0m\u001b[0;34m(\u001b[0m\u001b[0mA\u001b[0m \u001b[0;34m@\u001b[0m \u001b[0mB\u001b[0m\u001b[0;34m)\u001b[0m\u001b[0;34m\u001b[0m\u001b[0;34m\u001b[0m\u001b[0m\n\u001b[0;32m---> 10\u001b[0;31m \u001b[0mprint\u001b[0m\u001b[0;34m(\u001b[0m\u001b[0mB\u001b[0m \u001b[0;34m@\u001b[0m \u001b[0mA\u001b[0m\u001b[0;34m)\u001b[0m\u001b[0;34m\u001b[0m\u001b[0;34m\u001b[0m\u001b[0m\n\u001b[0m",
            "\u001b[0;31mValueError\u001b[0m: matmul: Input operand 1 has a mismatch in its core dimension 0, with gufunc signature (n?,k),(k,m?)->(n?,m?) (size 2 is different from 4)"
          ]
        }
      ]
    },
    {
      "cell_type": "markdown",
      "source": [
        "# 目標2： 二次元配列での@演算子、dot関数、inner関数の違いを確認する"
      ],
      "metadata": {
        "id": "FAdMPsRP_d7y"
      }
    },
    {
      "cell_type": "code",
      "source": [
        "import numpy as np\n",
        "\n",
        "A = np.array([[1, 2],\n",
        "              [3, 4]])\n",
        "B = np.array([[-2, 3],\n",
        "              [1, 5]])\n",
        "\n",
        "print(\"(A @ B)\")\n",
        "print(A @ B)\n",
        "print(\"np.dot(A, B)\")\n",
        "print(np.dot(A, B))\n",
        "print(\"np.inner(A, B)\")\n",
        "print(np.inner(A, B))\n",
        "print(\"np.inner(A, B.T)\")\n",
        "print(np.inner(A, B.T))"
      ],
      "metadata": {
        "colab": {
          "base_uri": "https://localhost:8080/"
        },
        "id": "_pNBUwGcA2qz",
        "outputId": "c4c7847c-fe4f-4c13-dad0-7a426ce83816"
      },
      "execution_count": null,
      "outputs": [
        {
          "output_type": "stream",
          "name": "stdout",
          "text": [
            "(A @ B)\n",
            "[[ 0 13]\n",
            " [-2 29]]\n",
            "np.dot(A, B)\n",
            "[[ 0 13]\n",
            " [-2 29]]\n",
            "np.inner(A, B)\n",
            "[[ 4 11]\n",
            " [ 6 23]]\n",
            "np.inner(A, B.T)\n",
            "[[ 0 13]\n",
            " [-2 29]]\n"
          ]
        }
      ]
    },
    {
      "cell_type": "code",
      "source": [],
      "metadata": {
        "id": "rJVTJNIz_fcV"
      },
      "execution_count": null,
      "outputs": []
    },
    {
      "cell_type": "markdown",
      "source": [
        "# 目標3： 三次元以上の配列での@演算子とdot関数の違いを確認する"
      ],
      "metadata": {
        "id": "fms8jn5X_gLP"
      }
    },
    {
      "cell_type": "code",
      "source": [
        "import numpy as np\n",
        "\n",
        "A = np.arange(12).reshape((2, 3, 2))\n",
        "B = np.arange(12).reshape((2, 2, 3))\n",
        "\n",
        "print(\"配列A：\" , A.shape)\n",
        "print(A)\n",
        "\n",
        "print(\"配列B：\" , B.shape)\n",
        "print(B)\n",
        "\n",
        "print(\"配列B.T：\" , B.T.shape)\n",
        "print(B.T)"
      ],
      "metadata": {
        "colab": {
          "base_uri": "https://localhost:8080/"
        },
        "id": "h5ATPxnC_hlm",
        "outputId": "4b17387e-c8be-4ece-e122-e9970237aea6"
      },
      "execution_count": null,
      "outputs": [
        {
          "output_type": "stream",
          "name": "stdout",
          "text": [
            "配列A： (2, 3, 2)\n",
            "[[[ 0  1]\n",
            "  [ 2  3]\n",
            "  [ 4  5]]\n",
            "\n",
            " [[ 6  7]\n",
            "  [ 8  9]\n",
            "  [10 11]]]\n",
            "配列B： (2, 2, 3)\n",
            "[[[ 0  1  2]\n",
            "  [ 3  4  5]]\n",
            "\n",
            " [[ 6  7  8]\n",
            "  [ 9 10 11]]]\n",
            "配列B.T： (3, 2, 2)\n",
            "[[[ 0  6]\n",
            "  [ 3  9]]\n",
            "\n",
            " [[ 1  7]\n",
            "  [ 4 10]]\n",
            "\n",
            " [[ 2  8]\n",
            "  [ 5 11]]]\n"
          ]
        }
      ]
    },
    {
      "cell_type": "code",
      "source": [
        "print(\"@演算子による内積：\", (A @ B).shape) # リスト5の続き\n",
        "print(A @ B)\n",
        "\n",
        "print(\"dot関数による内積：\" , np.dot(A, B).shape)\n",
        "print(np.dot(A, B))\n",
        "\n",
        "print(\"inner関数による内積：\" , np.inner(A, B.T).shape)\n",
        "print(np.inner(A, B.T))"
      ],
      "metadata": {
        "colab": {
          "base_uri": "https://localhost:8080/"
        },
        "id": "uUIuPyayCDM7",
        "outputId": "94e3f2fe-ea72-42dc-9856-d80fbc12f1cc"
      },
      "execution_count": null,
      "outputs": [
        {
          "output_type": "stream",
          "name": "stdout",
          "text": [
            "@演算子による内積： (2, 3, 3)\n",
            "[[[  3   4   5]\n",
            "  [  9  14  19]\n",
            "  [ 15  24  33]]\n",
            "\n",
            " [[ 99 112 125]\n",
            "  [129 146 163]\n",
            "  [159 180 201]]]\n",
            "dot関数による内積： (2, 3, 2, 3)\n",
            "[[[[  3   4   5]\n",
            "   [  9  10  11]]\n",
            "\n",
            "  [[  9  14  19]\n",
            "   [ 39  44  49]]\n",
            "\n",
            "  [[ 15  24  33]\n",
            "   [ 69  78  87]]]\n",
            "\n",
            "\n",
            " [[[ 21  34  47]\n",
            "   [ 99 112 125]]\n",
            "\n",
            "  [[ 27  44  61]\n",
            "   [129 146 163]]\n",
            "\n",
            "  [[ 33  54  75]\n",
            "   [159 180 201]]]]\n",
            "inner関数による内積： (2, 3, 3, 2)\n",
            "[[[[  6   9]\n",
            "   [  7  10]\n",
            "   [  8  11]]\n",
            "\n",
            "  [[ 18  33]\n",
            "   [ 23  38]\n",
            "   [ 28  43]]\n",
            "\n",
            "  [[ 30  57]\n",
            "   [ 39  66]\n",
            "   [ 48  75]]]\n",
            "\n",
            "\n",
            " [[[ 42  81]\n",
            "   [ 55  94]\n",
            "   [ 68 107]]\n",
            "\n",
            "  [[ 54 105]\n",
            "   [ 71 122]\n",
            "   [ 88 139]]\n",
            "\n",
            "  [[ 66 129]\n",
            "   [ 87 150]\n",
            "   [108 171]]]]\n"
          ]
        }
      ]
    },
    {
      "cell_type": "code",
      "source": [
        "import numpy as np\n",
        "\n",
        "A = np.ones((2, 4, 5, 3)) # 2×4×5×3の形で、全ての要素が1の配列\n",
        "B = np.ones((2, 4, 3, 6)) # 2×4×3×6の形で、全ての要素が1の配列\n",
        "C = np.ones((2, 3, 3, 6)) # 2×3×3×6の形で、全ての要素が1の配列\n",
        "\n",
        "print((A @ B).shape)\n",
        "print((A @ C).shape)"
      ],
      "metadata": {
        "colab": {
          "base_uri": "https://localhost:8080/",
          "height": 222
        },
        "id": "dmnS0wlzCfNv",
        "outputId": "f6f1e9b2-1fd1-4098-d5aa-ee4a5e076fd6"
      },
      "execution_count": null,
      "outputs": [
        {
          "output_type": "stream",
          "name": "stdout",
          "text": [
            "(2, 4, 5, 6)\n"
          ]
        },
        {
          "output_type": "error",
          "ename": "ValueError",
          "evalue": "ignored",
          "traceback": [
            "\u001b[0;31m---------------------------------------------------------------------------\u001b[0m",
            "\u001b[0;31mValueError\u001b[0m                                Traceback (most recent call last)",
            "\u001b[0;32m<ipython-input-13-32224cfb0060>\u001b[0m in \u001b[0;36m<module>\u001b[0;34m\u001b[0m\n\u001b[1;32m      6\u001b[0m \u001b[0;34m\u001b[0m\u001b[0m\n\u001b[1;32m      7\u001b[0m \u001b[0mprint\u001b[0m\u001b[0;34m(\u001b[0m\u001b[0;34m(\u001b[0m\u001b[0mA\u001b[0m \u001b[0;34m@\u001b[0m \u001b[0mB\u001b[0m\u001b[0;34m)\u001b[0m\u001b[0;34m.\u001b[0m\u001b[0mshape\u001b[0m\u001b[0;34m)\u001b[0m\u001b[0;34m\u001b[0m\u001b[0;34m\u001b[0m\u001b[0m\n\u001b[0;32m----> 8\u001b[0;31m \u001b[0mprint\u001b[0m\u001b[0;34m(\u001b[0m\u001b[0;34m(\u001b[0m\u001b[0mA\u001b[0m \u001b[0;34m@\u001b[0m \u001b[0mC\u001b[0m\u001b[0;34m)\u001b[0m\u001b[0;34m.\u001b[0m\u001b[0mshape\u001b[0m\u001b[0;34m)\u001b[0m\u001b[0;34m\u001b[0m\u001b[0;34m\u001b[0m\u001b[0m\n\u001b[0m",
            "\u001b[0;31mValueError\u001b[0m: operands could not be broadcast together with remapped shapes [original->remapped]: (2,4,5,3)->(2,4,newaxis,newaxis) (2,3,3,6)->(2,3,newaxis,newaxis)  and requested shape (5,6)"
          ]
        }
      ]
    },
    {
      "cell_type": "code",
      "source": [
        "import numpy as np\n",
        "\n",
        "A = np.ones((2, 4, 5, 3)) \n",
        "B = np.ones((2, 4, 3, 6))\n",
        "C = np.ones((2, 3, 3, 6))\n",
        "\n",
        "print(np.dot(A, B).shape)  # 最後がn×k, k×mとなっている\n",
        "print(np.dot(A, C).shape)\n",
        "# 出力例：\n",
        "# (2, 4, 5, 2, 4, 6)\n",
        "# (2, 4, 5, 2, 3, 6)"
      ],
      "metadata": {
        "colab": {
          "base_uri": "https://localhost:8080/"
        },
        "id": "hqkmIuyTCZW5",
        "outputId": "5ca33616-8a36-4b90-c2fb-159b638b47f2"
      },
      "execution_count": null,
      "outputs": [
        {
          "output_type": "stream",
          "name": "stdout",
          "text": [
            "(2, 4, 5, 2, 4, 6)\n",
            "(2, 4, 5, 2, 3, 6)\n"
          ]
        }
      ]
    },
    {
      "cell_type": "code",
      "source": [
        "import numpy as np\n",
        "\n",
        "A = np.ones((2, 4, 5, 3)) \n",
        "B = np.ones((2, 4, 3, 6))\n",
        "C = np.ones((2, 3, 3, 6))\n",
        "\n",
        "print(np.inner(B, C).shape)\n",
        "print(np.inner(A, C).shape)"
      ],
      "metadata": {
        "colab": {
          "base_uri": "https://localhost:8080/",
          "height": 257
        },
        "id": "vOcxhpVvCj4f",
        "outputId": "641682f0-06eb-4418-ab9e-97cac1f5c7ac"
      },
      "execution_count": null,
      "outputs": [
        {
          "output_type": "stream",
          "name": "stdout",
          "text": [
            "(2, 4, 3, 2, 3, 3)\n"
          ]
        },
        {
          "output_type": "error",
          "ename": "ValueError",
          "evalue": "ignored",
          "traceback": [
            "\u001b[0;31m---------------------------------------------------------------------------\u001b[0m",
            "\u001b[0;31mValueError\u001b[0m                                Traceback (most recent call last)",
            "\u001b[0;32m<ipython-input-14-86fb8b49a1a9>\u001b[0m in \u001b[0;36m<module>\u001b[0;34m\u001b[0m\n\u001b[1;32m      6\u001b[0m \u001b[0;34m\u001b[0m\u001b[0m\n\u001b[1;32m      7\u001b[0m \u001b[0mprint\u001b[0m\u001b[0;34m(\u001b[0m\u001b[0mnp\u001b[0m\u001b[0;34m.\u001b[0m\u001b[0minner\u001b[0m\u001b[0;34m(\u001b[0m\u001b[0mB\u001b[0m\u001b[0;34m,\u001b[0m \u001b[0mC\u001b[0m\u001b[0;34m)\u001b[0m\u001b[0;34m.\u001b[0m\u001b[0mshape\u001b[0m\u001b[0;34m)\u001b[0m\u001b[0;34m\u001b[0m\u001b[0;34m\u001b[0m\u001b[0m\n\u001b[0;32m----> 8\u001b[0;31m \u001b[0mprint\u001b[0m\u001b[0;34m(\u001b[0m\u001b[0mnp\u001b[0m\u001b[0;34m.\u001b[0m\u001b[0minner\u001b[0m\u001b[0;34m(\u001b[0m\u001b[0mA\u001b[0m\u001b[0;34m,\u001b[0m \u001b[0mC\u001b[0m\u001b[0;34m)\u001b[0m\u001b[0;34m.\u001b[0m\u001b[0mshape\u001b[0m\u001b[0;34m)\u001b[0m\u001b[0;34m\u001b[0m\u001b[0;34m\u001b[0m\u001b[0m\n\u001b[0m",
            "\u001b[0;32m<__array_function__ internals>\u001b[0m in \u001b[0;36minner\u001b[0;34m(*args, **kwargs)\u001b[0m\n",
            "\u001b[0;31mValueError\u001b[0m: shapes (2,4,5,3) and (2,3,6,3) not aligned: 3 (dim 3) != 6 (dim 2)"
          ]
        }
      ]
    },
    {
      "cell_type": "markdown",
      "source": [
        "# 練習問題と解答例"
      ],
      "metadata": {
        "id": "749jV8Ku_iFQ"
      }
    },
    {
      "cell_type": "markdown",
      "source": [
        "## （1）ニューラルネットワークの入力値を求める"
      ],
      "metadata": {
        "id": "rBrQk_OBCxCt"
      }
    },
    {
      "cell_type": "code",
      "source": [
        "import numpy as np\n",
        "\n",
        "X = np.array([1, 1, 0])\n",
        "W = np.array([[0.5, -0.4],\n",
        "              [0.3, 0.2],\n",
        "              [0.8, -0.1]])\n",
        "b = 0.5\n",
        "\n",
        "print(W.T @ X - b)"
      ],
      "metadata": {
        "colab": {
          "base_uri": "https://localhost:8080/"
        },
        "id": "1Dc68FR3_jOl",
        "outputId": "83222010-b022-4378-fcf2-4e4b22c5737a"
      },
      "execution_count": null,
      "outputs": [
        {
          "output_type": "stream",
          "name": "stdout",
          "text": [
            "[ 0.3 -0.7]\n"
          ]
        }
      ]
    },
    {
      "cell_type": "markdown",
      "source": [
        "## （2）指定した点を中心にベクトルを回転させる"
      ],
      "metadata": {
        "id": "tSiz8XMdCyYp"
      }
    },
    {
      "cell_type": "code",
      "source": [
        "def move(Dx, Dy):\n",
        "  return np.array([[1, 0, Dx],\n",
        "                   [0, 1, Dy],\n",
        "                   [0, 0, 1]])\n",
        "\n",
        "def rotate(theta):\n",
        "  return np.array([[np.cos(theta), -np.sin(theta), 0],\n",
        "                   [np.sin(theta), np.cos(theta), 0],\n",
        "                   [0, 0, 1]])\n",
        "\n",
        "p = np.array([4, 5, 1])\n",
        "\n",
        "print(move(2, 1) @ rotate(np.pi/6) @ move(-2, -1) @ p)"
      ],
      "metadata": {
        "colab": {
          "base_uri": "https://localhost:8080/"
        },
        "id": "EF_J85H4C0Nc",
        "outputId": "c1b17da3-5a48-48b7-913c-bc6110556962"
      },
      "execution_count": null,
      "outputs": [
        {
          "output_type": "stream",
          "name": "stdout",
          "text": [
            "[1.73205081 5.46410162 1.        ]\n"
          ]
        }
      ]
    }
  ]
}