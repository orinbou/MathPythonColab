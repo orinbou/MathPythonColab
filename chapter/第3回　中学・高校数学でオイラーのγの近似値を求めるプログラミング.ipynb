{
  "nbformat": 4,
  "nbformat_minor": 0,
  "metadata": {
    "colab": {
      "provenance": [],
      "authorship_tag": "ABX9TyNRGbD4VEwG0a8PA9ghBWuT",
      "include_colab_link": true
    },
    "kernelspec": {
      "name": "python3",
      "display_name": "Python 3"
    },
    "language_info": {
      "name": "python"
    }
  },
  "cells": [
    {
      "cell_type": "markdown",
      "metadata": {
        "id": "view-in-github",
        "colab_type": "text"
      },
      "source": [
        "<a href=\"https://colab.research.google.com/github/orinbou/MathPythonColab/blob/main/chapter/%E7%AC%AC3%E5%9B%9E%E3%80%80%E4%B8%AD%E5%AD%A6%E3%83%BB%E9%AB%98%E6%A0%A1%E6%95%B0%E5%AD%A6%E3%81%A7%E3%82%AA%E3%82%A4%E3%83%A9%E3%83%BC%E3%81%AE%CE%B3%E3%81%AE%E8%BF%91%E4%BC%BC%E5%80%A4%E3%82%92%E6%B1%82%E3%82%81%E3%82%8B%E3%83%97%E3%83%AD%E3%82%B0%E3%83%A9%E3%83%9F%E3%83%B3%E3%82%B0.ipynb\" target=\"_parent\"><img src=\"https://colab.research.google.com/assets/colab-badge.svg\" alt=\"Open In Colab\"/></a>"
      ]
    },
    {
      "cell_type": "markdown",
      "source": [
        "# 等差数列を作る、総和／平均／個数を求める ―プログラミングの基本（1）\n",
        "初項1、公差1の等差数列の逆数の数列の和（第100項まで）を求める"
      ],
      "metadata": {
        "id": "JJkGxc2tcHwZ"
      }
    },
    {
      "cell_type": "code",
      "source": [
        "import math\n",
        "def sumharmonic(m):\n",
        "  sum = 0\n",
        "  for k in range(1, m+1):\n",
        "    sum += 1/k\n",
        "  return sum"
      ],
      "metadata": {
        "id": "jxAZC-Gdb-u6"
      },
      "execution_count": null,
      "outputs": []
    },
    {
      "cell_type": "code",
      "source": [
        "sumharmonic(100)"
      ],
      "metadata": {
        "colab": {
          "base_uri": "https://localhost:8080/"
        },
        "id": "hrRotVUfeQSl",
        "outputId": "94ccdeda-28fa-45ef-b3ea-4f69d78c8411"
      },
      "execution_count": null,
      "outputs": [
        {
          "output_type": "execute_result",
          "data": {
            "text/plain": [
              "5.187377517639621"
            ]
          },
          "metadata": {},
          "execution_count": 2
        }
      ]
    },
    {
      "cell_type": "markdown",
      "source": [
        "# 調和数列の和を基に、オイラーのγの近似値を求める\n",
        "調和数列のわからln mを引くだけでよい"
      ],
      "metadata": {
        "id": "F-1ng89qeXpE"
      }
    },
    {
      "cell_type": "code",
      "source": [
        "import math\n",
        "def eulersgamma(m):\n",
        "  return sumharmonic(m) - math.log(m)"
      ],
      "metadata": {
        "id": "kI1F_mVleiA3"
      },
      "execution_count": null,
      "outputs": []
    },
    {
      "cell_type": "code",
      "source": [
        "eulersgamma(10000)"
      ],
      "metadata": {
        "colab": {
          "base_uri": "https://localhost:8080/"
        },
        "id": "ow97TbxNe1bU",
        "outputId": "3a865a3d-1902-4d5d-e95f-4b223de09de5"
      },
      "execution_count": null,
      "outputs": [
        {
          "output_type": "execute_result",
          "data": {
            "text/plain": [
              "0.5772656640681646"
            ]
          },
          "metadata": {},
          "execution_count": 4
        }
      ]
    },
    {
      "cell_type": "markdown",
      "source": [
        "# 「ネイピア数の近似値」「共分散と相関係数」「株価のn日移動平均」をプログラミングしてみよう\n"
      ],
      "metadata": {
        "id": "jUeshj3AgTDW"
      }
    },
    {
      "cell_type": "markdown",
      "source": [
        "## 練習問題1：ネイピア数の近似値"
      ],
      "metadata": {
        "id": "WLijbHw6gyMK"
      }
    },
    {
      "cell_type": "code",
      "source": [
        "%%latex\n",
        "\\displaystyle\n",
        "e=\\sum_{n=0}^{\\infty} \\frac{1}{n!}"
      ],
      "metadata": {
        "colab": {
          "base_uri": "https://localhost:8080/",
          "height": 66
        },
        "id": "lAR22bHaiDkQ",
        "outputId": "e3f5b1c9-3c94-4ec0-ab1f-b054e0b919a0"
      },
      "execution_count": null,
      "outputs": [
        {
          "output_type": "display_data",
          "data": {
            "text/plain": [
              "<IPython.core.display.Latex object>"
            ],
            "text/latex": "\\displaystyle\ne=\\sum_{n=0}^{\\infty} \\frac{1}{n!}\n"
          },
          "metadata": {}
        }
      ]
    },
    {
      "cell_type": "code",
      "source": [
        "import math\n",
        "def myexp(n):\n",
        "  sum = 0\n",
        "  for i in range(n):\n",
        "    sum += 1/math.factorial(i)\n",
        "  return sum"
      ],
      "metadata": {
        "id": "VAWnJYQ9g29V"
      },
      "execution_count": null,
      "outputs": []
    },
    {
      "cell_type": "code",
      "source": [
        "import math\n",
        "\n",
        "print(myexp(10))\n",
        "print(myexp(100))\n",
        "print(myexp(1000))\n",
        "print(\"math.e\")\n",
        "print(math.e)"
      ],
      "metadata": {
        "colab": {
          "base_uri": "https://localhost:8080/"
        },
        "id": "Ac44yNDPhX-i",
        "outputId": "89107bb1-8d67-401f-aede-aaa94250eceb"
      },
      "execution_count": null,
      "outputs": [
        {
          "output_type": "stream",
          "name": "stdout",
          "text": [
            "2.7182815255731922\n",
            "2.7182818284590455\n",
            "2.7182818284590455\n",
            "math.e\n",
            "2.718281828459045\n"
          ]
        }
      ]
    },
    {
      "cell_type": "code",
      "source": [
        "%%latex\n",
        "\\displaystyle\n",
        "e=\\lim_{n \\to \\infty}{(1 + \\frac{1}{n})^n}"
      ],
      "metadata": {
        "colab": {
          "base_uri": "https://localhost:8080/",
          "height": 51
        },
        "id": "75ezYQzK5dRP",
        "outputId": "00e9ae6f-5c08-4400-8e84-f803610a7529"
      },
      "execution_count": null,
      "outputs": [
        {
          "output_type": "display_data",
          "data": {
            "text/plain": [
              "<IPython.core.display.Latex object>"
            ],
            "text/latex": "\\displaystyle\ne=\\lim_{n \\to \\infty}{(1 + \\frac{1}{n})^n}\n"
          },
          "metadata": {}
        }
      ]
    },
    {
      "cell_type": "code",
      "source": [
        "import math\n",
        "def explimplus(n):\n",
        "  return (1 + 1/n)**n\n",
        "\n",
        "print(explimplus(1))\n",
        "print(explimplus(10))\n",
        "print(explimplus(100))\n",
        "print(explimplus(1000))\n",
        "print(explimplus(10000))\n",
        "print(explimplus(100000))\n",
        "print(explimplus(1000000))\n",
        "print(explimplus(10000000))\n",
        "print(explimplus(100000000))\n",
        "print(explimplus(1000000000))\n",
        "print(explimplus(10000000000))\n",
        "print(explimplus(100000000000))\n",
        "print(\"math.e\")\n",
        "print(math.e)"
      ],
      "metadata": {
        "colab": {
          "base_uri": "https://localhost:8080/"
        },
        "id": "Qgu4-r8V6ZUy",
        "outputId": "f813ea59-6636-4d9e-848f-e0f2859b52bf"
      },
      "execution_count": null,
      "outputs": [
        {
          "output_type": "stream",
          "name": "stdout",
          "text": [
            "2.0\n",
            "2.5937424601000023\n",
            "2.7048138294215285\n",
            "2.7169239322355936\n",
            "2.7181459268249255\n",
            "2.7182682371922975\n",
            "2.7182804690957534\n",
            "2.7182816941320818\n",
            "2.7182817983473577\n",
            "2.7182820520115603\n",
            "2.7182820532347876\n",
            "2.71828205335711\n",
            "math.e\n",
            "2.718281828459045\n"
          ]
        }
      ]
    },
    {
      "cell_type": "code",
      "source": [
        "%%latex\n",
        "\\displaystyle\n",
        "e=\\lim_{n \\to \\infty}{(1 - \\frac{1}{n})^n}"
      ],
      "metadata": {
        "colab": {
          "base_uri": "https://localhost:8080/",
          "height": 51
        },
        "id": "NFkY-aJ96b6G",
        "outputId": "65536bf2-0c02-42f4-e719-29a461965222"
      },
      "execution_count": null,
      "outputs": [
        {
          "output_type": "display_data",
          "data": {
            "text/plain": [
              "<IPython.core.display.Latex object>"
            ],
            "text/latex": "\\displaystyle\ne=\\lim_{n \\to \\infty}{(1 - \\frac{1}{n})^n}\n"
          },
          "metadata": {}
        }
      ]
    },
    {
      "cell_type": "code",
      "source": [
        "import math\n",
        "def explimminus(n):\n",
        "  return (1 - 1/n)**n\n",
        "\n",
        "print(explimminus(1))\n",
        "print(explimminus(10))\n",
        "print(explimminus(100))\n",
        "print(explimminus(1000))\n",
        "print(explimminus(10000))\n",
        "print(explimminus(100000))\n",
        "print(explimminus(1000000))\n",
        "print(explimminus(10000000))"
      ],
      "metadata": {
        "colab": {
          "base_uri": "https://localhost:8080/"
        },
        "id": "NXLPryJY6hb4",
        "outputId": "a3dd8ef6-62f6-47e7-c28c-2b108c67a9a2"
      },
      "execution_count": null,
      "outputs": [
        {
          "output_type": "stream",
          "name": "stdout",
          "text": [
            "0.0\n",
            "0.3486784401000001\n",
            "0.3660323412732292\n",
            "0.36769542477096373\n",
            "0.36786104643297046\n",
            "0.3678776017682465\n",
            "0.36787925722106646\n",
            "0.367879422971105\n"
          ]
        }
      ]
    },
    {
      "cell_type": "code",
      "source": [
        "import math\n",
        "def explimminusinv(n):\n",
        "  return 1/(1 - 1/n)**n\n",
        "\n",
        "print(explimminusinv(10))\n",
        "print(explimminusinv(100))\n",
        "print(explimminusinv(1000))\n",
        "print(explimminusinv(10000))\n",
        "print(explimminusinv(100000))\n",
        "print(explimminusinv(1000000))\n",
        "print(explimminusinv(10000000))\n",
        "print(explimminusinv(100000000))\n",
        "print(explimminusinv(1000000000))\n",
        "print(explimminusinv(10000000000))\n",
        "print(explimminusinv(100000000000))\n",
        "print(\"math.e\")\n",
        "print(math.e)"
      ],
      "metadata": {
        "colab": {
          "base_uri": "https://localhost:8080/"
        },
        "id": "fVzFOM9e8I9X",
        "outputId": "85f39a47-a82f-4732-fdb9-9f35bb60cc7b"
      },
      "execution_count": null,
      "outputs": [
        {
          "output_type": "stream",
          "name": "stdout",
          "text": [
            "2.8679719907924404\n",
            "2.7319990264290284\n",
            "2.719642216442853\n",
            "2.7184177550101496\n",
            "2.7182954199804055\n",
            "2.7182831876793716\n",
            "2.7182819629423656\n",
            "2.718281855709167\n",
            "2.7182817529399266\n",
            "2.718282053506616\n",
            "2.718282053384293\n",
            "math.e\n",
            "2.718281828459045\n"
          ]
        }
      ]
    },
    {
      "cell_type": "markdown",
      "source": [
        "## 練習問題2：共分散と相関係数"
      ],
      "metadata": {
        "id": "eUZC5YL1g-tI"
      }
    },
    {
      "cell_type": "code",
      "source": [
        "%%latex\n",
        "\\displaystyle\n",
        "\\frac{\\sum(x_i-\\bar{x})(y_i-\\bar{y})}{n}"
      ],
      "metadata": {
        "id": "PioFkVh4hBZs",
        "colab": {
          "base_uri": "https://localhost:8080/",
          "height": 53
        },
        "outputId": "252e4446-bd99-4193-d727-43f213999650"
      },
      "execution_count": null,
      "outputs": [
        {
          "output_type": "display_data",
          "data": {
            "text/plain": [
              "<IPython.core.display.Latex object>"
            ],
            "text/latex": "\\displaystyle\n\\frac{\\sum(x_i-\\bar{x})(y_i-\\bar{y})}{n}\n"
          },
          "metadata": {}
        }
      ]
    },
    {
      "cell_type": "code",
      "source": [
        "def covar(x, y):\n",
        "  n = len(x)\n",
        "  avex = sum(x)/len(x)\n",
        "  avey = sum(y)/len(y)\n",
        "  sumxy = 0\n",
        "  for i in range(0, n):\n",
        "    sumxy += (x[i] - avex) * (y[i] - avey)\n",
        "  return sumxy / n"
      ],
      "metadata": {
        "id": "jrf8Rne4n2tZ"
      },
      "execution_count": null,
      "outputs": []
    },
    {
      "cell_type": "code",
      "source": [
        "a = [12.1, 15.3, 18.6, 21.7, 26.1, 32.1]\n",
        "b = [45, 520, 2864, 6874, 25487, 102870]\n",
        "covar(a, b)"
      ],
      "metadata": {
        "colab": {
          "base_uri": "https://localhost:8080/"
        },
        "id": "TtOEWxu_o36p",
        "outputId": "3605c64b-2dd9-4043-e5b3-5470da3eca83"
      },
      "execution_count": null,
      "outputs": [
        {
          "output_type": "execute_result",
          "data": {
            "text/plain": [
              "211454.23333333337"
            ]
          },
          "metadata": {},
          "execution_count": 13
        }
      ]
    },
    {
      "cell_type": "code",
      "source": [
        "%%latex\n",
        "\\displaystyle\n",
        "\\sqrt{\\frac{\\sum(x_i-\\bar{x})^2}{n}}"
      ],
      "metadata": {
        "colab": {
          "base_uri": "https://localhost:8080/",
          "height": 58
        },
        "id": "j8RVVkYgpWox",
        "outputId": "03920188-d99f-4d13-81bf-81ca403d3339"
      },
      "execution_count": null,
      "outputs": [
        {
          "output_type": "display_data",
          "data": {
            "text/plain": [
              "<IPython.core.display.Latex object>"
            ],
            "text/latex": "\\displaystyle\n\\sqrt{\\frac{\\sum(x_i-\\bar{x})^2}{n}}\n"
          },
          "metadata": {}
        }
      ]
    },
    {
      "cell_type": "code",
      "source": [
        "import math\n",
        "def stdevp(x):\n",
        "  n = len(x)\n",
        "  avex = sum(x)/len(x)\n",
        "  sqsum = 0\n",
        "  for i in range(0, n):\n",
        "    sqsum += (x[i] - avex)**2\n",
        "  return math.sqrt(sqsum/n)"
      ],
      "metadata": {
        "id": "VKSNfAjmp5R2"
      },
      "execution_count": null,
      "outputs": []
    },
    {
      "cell_type": "code",
      "source": [
        "covar(a, b)/(stdevp(a)*stdevp(b))"
      ],
      "metadata": {
        "colab": {
          "base_uri": "https://localhost:8080/"
        },
        "id": "tkAvwJbmqP5P",
        "outputId": "e1004497-3920-40db-f9ed-e5e68d7c2935"
      },
      "execution_count": null,
      "outputs": [
        {
          "output_type": "execute_result",
          "data": {
            "text/plain": [
              "0.8633475827899139"
            ]
          },
          "metadata": {},
          "execution_count": 24
        }
      ]
    },
    {
      "cell_type": "markdown",
      "source": [
        "## 練習問題3：株価のn日移動平均"
      ],
      "metadata": {
        "id": "l09TTcH4hCPF"
      }
    },
    {
      "cell_type": "code",
      "source": [
        "import pandas_datareader.data as pdr\n",
        "df = pdr.DataReader(\"PFE.US\", \"stooq\").sort_index()\n",
        "data = df.loc['2021-3-22':'2021-8-11', 'Close'].tolist()"
      ],
      "metadata": {
        "id": "cgLXFU1phEvc"
      },
      "execution_count": null,
      "outputs": []
    },
    {
      "cell_type": "code",
      "source": [
        "from numpy.lib.function_base import average\n",
        "def movingav(data, period):\n",
        "  n = len(data)\n",
        "  result = []\n",
        "  for i in range(0, n-period+1):\n",
        "    result.append(round(average(data[i:i+period]), 2))\n",
        "  return result"
      ],
      "metadata": {
        "id": "HFKJ741OrMk2"
      },
      "execution_count": null,
      "outputs": []
    },
    {
      "cell_type": "code",
      "source": [
        "movingav(data, 5)"
      ],
      "metadata": {
        "colab": {
          "base_uri": "https://localhost:8080/"
        },
        "id": "bQMbxcffsQpl",
        "outputId": "dd9bb5e9-349a-475a-ff32-f796aeb3e8be"
      },
      "execution_count": null,
      "outputs": [
        {
          "output_type": "execute_result",
          "data": {
            "text/plain": [
              "[33.71,\n",
              " 33.83,\n",
              " 33.97,\n",
              " 34.09,\n",
              " 34.2,\n",
              " 34.21,\n",
              " 34.1,\n",
              " 34.06,\n",
              " 34.01,\n",
              " 34.07,\n",
              " 34.2,\n",
              " 34.41,\n",
              " 34.65,\n",
              " 34.96,\n",
              " 35.33,\n",
              " 35.7,\n",
              " 36.05,\n",
              " 36.49,\n",
              " 36.69,\n",
              " 36.71,\n",
              " 36.66,\n",
              " 36.55,\n",
              " 36.41,\n",
              " 36.41,\n",
              " 36.41,\n",
              " 36.62,\n",
              " 36.9,\n",
              " 37.12,\n",
              " 37.31,\n",
              " 37.56,\n",
              " 37.64,\n",
              " 37.6,\n",
              " 37.62,\n",
              " 37.79,\n",
              " 37.87,\n",
              " 37.92,\n",
              " 38.05,\n",
              " 38.08,\n",
              " 38.09,\n",
              " 38.07,\n",
              " 38.01,\n",
              " 37.88,\n",
              " 37.7,\n",
              " 37.42,\n",
              " 37.19,\n",
              " 36.94,\n",
              " 36.84,\n",
              " 36.85,\n",
              " 36.94,\n",
              " 36.99,\n",
              " 37.06,\n",
              " 37.26,\n",
              " 37.58,\n",
              " 37.77,\n",
              " 37.89,\n",
              " 38.03,\n",
              " 37.94,\n",
              " 37.71,\n",
              " 37.45,\n",
              " 37.41,\n",
              " 37.42,\n",
              " 37.37,\n",
              " 37.31,\n",
              " 37.35,\n",
              " 37.29,\n",
              " 37.19,\n",
              " 37.21,\n",
              " 37.28,\n",
              " 37.43,\n",
              " 37.46,\n",
              " 37.51,\n",
              " 37.52,\n",
              " 37.53,\n",
              " 37.54,\n",
              " 37.61,\n",
              " 37.72,\n",
              " 37.88,\n",
              " 38.02,\n",
              " 38.1,\n",
              " 38.36,\n",
              " 38.57,\n",
              " 38.83,\n",
              " 39.08,\n",
              " 39.4,\n",
              " 39.6,\n",
              " 40.06,\n",
              " 40.39,\n",
              " 40.67,\n",
              " 41.16,\n",
              " 41.92,\n",
              " 42.33,\n",
              " 42.76,\n",
              " 43.2,\n",
              " 43.59,\n",
              " 44.07,\n",
              " 44.28]"
            ]
          },
          "metadata": {},
          "execution_count": 29
        }
      ]
    }
  ]
}