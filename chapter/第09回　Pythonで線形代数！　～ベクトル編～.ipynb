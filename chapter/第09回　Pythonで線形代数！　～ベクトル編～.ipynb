{
  "nbformat": 4,
  "nbformat_minor": 0,
  "metadata": {
    "colab": {
      "provenance": [],
      "authorship_tag": "ABX9TyNsNWK09Wj+drh6yLobVUTS",
      "include_colab_link": true
    },
    "kernelspec": {
      "name": "python3",
      "display_name": "Python 3"
    },
    "language_info": {
      "name": "python"
    }
  },
  "cells": [
    {
      "cell_type": "markdown",
      "metadata": {
        "id": "view-in-github",
        "colab_type": "text"
      },
      "source": [
        "<a href=\"https://colab.research.google.com/github/orinbou/MathPythonColab/blob/main/chapter/%E7%AC%AC9%E5%9B%9E%E3%80%80Python%E3%81%A7%E7%B7%9A%E5%BD%A2%E4%BB%A3%E6%95%B0%EF%BC%81%E3%80%80%EF%BD%9E%E3%83%99%E3%82%AF%E3%83%88%E3%83%AB%E7%B7%A8%EF%BD%9E.ipynb\" target=\"_parent\"><img src=\"https://colab.research.google.com/assets/colab-badge.svg\" alt=\"Open In Colab\"/></a>"
      ]
    },
    {
      "cell_type": "markdown",
      "source": [
        "# 目標1： ベクトルの和・差・スカラー倍"
      ],
      "metadata": {
        "id": "qXztlDAqxG_o"
      }
    },
    {
      "cell_type": "code",
      "source": [
        "import numpy as np\n",
        "a = np.array([2, 3])\n",
        "b = np.array([4, 1])\n",
        "print(a + b)\n",
        "print(a - b)\n",
        "print(a * 2)\n",
        "print(a * b)"
      ],
      "metadata": {
        "colab": {
          "base_uri": "https://localhost:8080/"
        },
        "id": "4vinqyOAxJQ_",
        "outputId": "3d0ae805-5358-4bf3-a03d-b60d32b8a750"
      },
      "execution_count": null,
      "outputs": [
        {
          "output_type": "stream",
          "name": "stdout",
          "text": [
            "[6 4]\n",
            "[-2  2]\n",
            "[4 6]\n",
            "[8 3]\n"
          ]
        }
      ]
    },
    {
      "cell_type": "markdown",
      "source": [
        "# 目標2： ベクトルの大きさ"
      ],
      "metadata": {
        "id": "Q8OxbQ5vxKfU"
      }
    },
    {
      "cell_type": "code",
      "source": [
        "import numpy as np\n",
        "import numpy.linalg as LA\n",
        "\n",
        "a = np.array([4, 3])\n",
        "b = np.array([3, 2, -6])\n",
        "\n",
        "print(LA.norm(a))\n",
        "print(LA.norm(b))"
      ],
      "metadata": {
        "colab": {
          "base_uri": "https://localhost:8080/"
        },
        "id": "JSMC0VAaxL7p",
        "outputId": "a3ff9ee1-d34c-46fb-8b95-6c0738ce78e7"
      },
      "execution_count": null,
      "outputs": [
        {
          "output_type": "stream",
          "name": "stdout",
          "text": [
            "5.0\n",
            "7.0\n"
          ]
        }
      ]
    },
    {
      "cell_type": "markdown",
      "source": [
        "# 目標3： ベクトルの要素ごとの積と内積"
      ],
      "metadata": {
        "id": "0VcDX4PqxMob"
      }
    },
    {
      "cell_type": "code",
      "source": [
        "import numpy as np\n",
        "a = np.array([2, 3])\n",
        "b = np.array([4, 1])\n",
        "print(np.inner(a, b))\n",
        "print(np.dot(a, b))\n",
        "print(a @ b)"
      ],
      "metadata": {
        "colab": {
          "base_uri": "https://localhost:8080/"
        },
        "id": "QzG4GWA4xORP",
        "outputId": "f11be086-5ab6-40fc-9ea8-f80ca2cedd21"
      },
      "execution_count": null,
      "outputs": [
        {
          "output_type": "stream",
          "name": "stdout",
          "text": [
            "11\n",
            "11\n",
            "11\n"
          ]
        }
      ]
    },
    {
      "cell_type": "markdown",
      "source": [
        "# 目標4： ベクトルの外積と直積"
      ],
      "metadata": {
        "id": "V020gAdMxPnD"
      }
    },
    {
      "cell_type": "code",
      "source": [
        "import numpy as np\n",
        "\n",
        "a = np.array([4, 1, 2])\n",
        "b = np.array([2, 3, 5])\n",
        "\n",
        "print(np.cross(a, b))"
      ],
      "metadata": {
        "colab": {
          "base_uri": "https://localhost:8080/"
        },
        "id": "97HfHbm6xQV5",
        "outputId": "fc9b5cff-2a59-4eda-9ee0-28295e606728"
      },
      "execution_count": null,
      "outputs": [
        {
          "output_type": "stream",
          "name": "stdout",
          "text": [
            "[ -1 -16  10]\n"
          ]
        }
      ]
    },
    {
      "cell_type": "code",
      "source": [
        "import numpy as np\n",
        "\n",
        "a = np.array([4, 2])\n",
        "b = np.array([2, 3, 5])\n",
        "\n",
        "print(np.outer(a, b))"
      ],
      "metadata": {
        "colab": {
          "base_uri": "https://localhost:8080/"
        },
        "id": "F9ZsA20O1GX9",
        "outputId": "8cefe666-8418-49df-fb5a-2770867889a8"
      },
      "execution_count": null,
      "outputs": [
        {
          "output_type": "stream",
          "name": "stdout",
          "text": [
            "[[ 8 12 20]\n",
            " [ 4  6 10]]\n"
          ]
        }
      ]
    },
    {
      "cell_type": "markdown",
      "source": [
        "# 練習問題と解答例"
      ],
      "metadata": {
        "id": "IFrhTypSxQ25"
      }
    },
    {
      "cell_type": "markdown",
      "source": [
        "## （1）ある点と直線や平面との距離を求める"
      ],
      "metadata": {
        "id": "cIRnyibe2GIi"
      }
    },
    {
      "cell_type": "code",
      "source": [
        "import numpy as np\n",
        "import numpy.linalg as LA\n",
        "p = np.array([1,3,1])\n",
        "L = np.array([2,1,5])\n",
        "print(abs(p@L)/LA.norm(L[0:-1]))"
      ],
      "metadata": {
        "colab": {
          "base_uri": "https://localhost:8080/"
        },
        "id": "DB1PptYixSVA",
        "outputId": "63fc7c2a-a795-42e8-c89d-9392b6935fa1"
      },
      "execution_count": null,
      "outputs": [
        {
          "output_type": "stream",
          "name": "stdout",
          "text": [
            "4.47213595499958\n"
          ]
        }
      ]
    },
    {
      "cell_type": "markdown",
      "source": [
        "## （2）ニューロンの活動をシミュレートする"
      ],
      "metadata": {
        "id": "zdhESxyQ2Hvg"
      }
    },
    {
      "cell_type": "code",
      "source": [
        "import numpy as np\n",
        "import matplotlib.pyplot as plt\n",
        "\n",
        "def inhibit(x, w):\n",
        "  y = np.zeros(len(x))\n",
        "  for i in range(1, len(y)-1): # len(y)-1未満まで\n",
        "    y[i] = np.inner(x[i-1:i+2], w)\n",
        "  return y[1:-1]"
      ],
      "metadata": {
        "id": "x4wqCrsV2KaI"
      },
      "execution_count": null,
      "outputs": []
    },
    {
      "cell_type": "code",
      "source": [
        "x = np.array([1, 1, 1, 1, 1, 0, 0, 0, 0])\n",
        "w = np.array([-0.1, 1, -0.1])\n",
        "result = inhibit(x, w)  # この関数inhibitを作成する\n",
        "print(result)\n",
        "plt.imshow([result], cmap='gray')\n",
        "plt.show()"
      ],
      "metadata": {
        "colab": {
          "base_uri": "https://localhost:8080/",
          "height": 117
        },
        "id": "pmK1tbBG2JcP",
        "outputId": "b9a2d915-dd43-4584-9702-8e2e0d2cc13f"
      },
      "execution_count": null,
      "outputs": [
        {
          "output_type": "stream",
          "name": "stdout",
          "text": [
            "[ 0.8  0.8  0.8  0.9 -0.1  0.   0. ]\n"
          ]
        },
        {
          "output_type": "display_data",
          "data": {
            "text/plain": [
              "<Figure size 432x288 with 1 Axes>"
            ],
            "image/png": "[encoded data removed]"
          },
          "metadata": {
            "needs_background": "light"
          }
        }
      ]
    },
    {
      "cell_type": "code",
      "source": [],
      "metadata": {
        "id": "K0b2Nny23y3v"
      },
      "execution_count": null,
      "outputs": []
    }
  ]
}