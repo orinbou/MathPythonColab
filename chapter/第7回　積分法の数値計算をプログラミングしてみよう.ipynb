{
  "nbformat": 4,
  "nbformat_minor": 0,
  "metadata": {
    "colab": {
      "provenance": [],
      "authorship_tag": "ABX9TyOfOsbH3L3HDIefNhvqr0On",
      "include_colab_link": true
    },
    "kernelspec": {
      "name": "python3",
      "display_name": "Python 3"
    },
    "language_info": {
      "name": "python"
    }
  },
  "cells": [
    {
      "cell_type": "markdown",
      "metadata": {
        "id": "view-in-github",
        "colab_type": "text"
      },
      "source": [
        "<a href=\"https://colab.research.google.com/github/orinbou/MathPythonColab/blob/main/chapter/%E7%AC%AC7%E5%9B%9E%E3%80%80%E7%A9%8D%E5%88%86%E6%B3%95%E3%81%AE%E6%95%B0%E5%80%A4%E8%A8%88%E7%AE%97%E3%82%92%E3%83%97%E3%83%AD%E3%82%B0%E3%83%A9%E3%83%9F%E3%83%B3%E3%82%B0%E3%81%97%E3%81%A6%E3%81%BF%E3%82%88%E3%81%86.ipynb\" target=\"_parent\"><img src=\"https://colab.research.google.com/assets/colab-badge.svg\" alt=\"Open In Colab\"/></a>"
      ]
    },
    {
      "cell_type": "markdown",
      "source": [
        "# 目標1： 台形公式を使って積分を行う"
      ],
      "metadata": {
        "id": "ky9IM9QEhcTC"
      }
    },
    {
      "cell_type": "code",
      "source": [
        "def parabolic(x):\n",
        "  return x**2"
      ],
      "metadata": {
        "id": "6kt8gV_shdEl"
      },
      "execution_count": null,
      "outputs": []
    },
    {
      "cell_type": "code",
      "source": [
        "import numpy as np\n",
        "def integral(func, xmin, xmax, h):\n",
        "  result = 0\n",
        "  for x in np.arange(xmin, xmax, h):\n",
        "    result += (func(x) + func(x+h)) * h / 2\n",
        "  return result"
      ],
      "metadata": {
        "id": "1948qRiov6i4"
      },
      "execution_count": null,
      "outputs": []
    },
    {
      "cell_type": "code",
      "source": [
        "integral(parabolic, 0, 1, 0.001)"
      ],
      "metadata": {
        "colab": {
          "base_uri": "https://localhost:8080/"
        },
        "id": "TWWiguvOwP7n",
        "outputId": "b399054e-e19f-4465-c6f2-814795619854"
      },
      "execution_count": null,
      "outputs": [
        {
          "output_type": "execute_result",
          "data": {
            "text/plain": [
              "0.33333349999999984"
            ]
          },
          "metadata": {},
          "execution_count": 3
        }
      ]
    },
    {
      "cell_type": "code",
      "source": [
        "import numpy as np\n",
        "def integral2(func, xmin, xmax, count):\n",
        "  result = 0\n",
        "  rep, h = np.linspace(xmin, xmax, count, endpoint=False, retstep=True)\n",
        "  for x in rep:\n",
        "    result += (func(x) + func(x+h)) * h / 2\n",
        "  return result"
      ],
      "metadata": {
        "id": "TP0qRRtzwWFf"
      },
      "execution_count": null,
      "outputs": []
    },
    {
      "cell_type": "code",
      "source": [
        "integral2(parabolic, 0, 1, 1000)"
      ],
      "metadata": {
        "colab": {
          "base_uri": "https://localhost:8080/"
        },
        "id": "_fmD1go_w7jI",
        "outputId": "ec861662-d0fc-4575-fee6-3a3884d4039e"
      },
      "execution_count": null,
      "outputs": [
        {
          "output_type": "execute_result",
          "data": {
            "text/plain": [
              "0.33333349999999984"
            ]
          },
          "metadata": {},
          "execution_count": 5
        }
      ]
    },
    {
      "cell_type": "markdown",
      "source": [
        "# 目標2： シンプソンの公式を使って積分を行う"
      ],
      "metadata": {
        "id": "tjFzDwX7xJfq"
      }
    },
    {
      "cell_type": "code",
      "source": [
        "import numpy as np\n",
        "def simpson(func, xmin, xmax, h):\n",
        "  result = 0\n",
        "  w = h * 2\n",
        "  for x in np.arange(xmin, xmax, w):\n",
        "    result += (func(x) + 4*func(x+h) + func(x+w)) * (h / 3)\n",
        "  return result"
      ],
      "metadata": {
        "id": "oS7VCREnxKJ_"
      },
      "execution_count": null,
      "outputs": []
    },
    {
      "cell_type": "code",
      "source": [
        "simpson(parabolic, 0, 1, 0.001)"
      ],
      "metadata": {
        "colab": {
          "base_uri": "https://localhost:8080/"
        },
        "id": "H2g1f-mUxjO_",
        "outputId": "6e83f365-e894-423b-f238-93920c6040e5"
      },
      "execution_count": null,
      "outputs": [
        {
          "output_type": "execute_result",
          "data": {
            "text/plain": [
              "0.3333333333333334"
            ]
          },
          "metadata": {},
          "execution_count": 7
        }
      ]
    },
    {
      "cell_type": "markdown",
      "source": [
        "# 目標3： モンテカルロ法により定積分の近似計算を行う"
      ],
      "metadata": {
        "id": "kA2EvY60x0rf"
      }
    },
    {
      "cell_type": "code",
      "source": [
        "import numpy as np\n",
        "def monte(n):\n",
        "  np.random.seed(0)\n",
        "  count = 0\n",
        "  for i in range(n):\n",
        "    x = np.random.random()\n",
        "    y = np.random.random()\n",
        "    if y < x**2:\n",
        "      count += 1\n",
        "  return count / n"
      ],
      "metadata": {
        "id": "VLO3kmYpx1Pu"
      },
      "execution_count": null,
      "outputs": []
    },
    {
      "cell_type": "code",
      "source": [
        "monte(1000)"
      ],
      "metadata": {
        "colab": {
          "base_uri": "https://localhost:8080/"
        },
        "id": "u7QV55UryLKX",
        "outputId": "052c65f4-026b-46fc-afc0-e37466c209ac"
      },
      "execution_count": null,
      "outputs": [
        {
          "output_type": "execute_result",
          "data": {
            "text/plain": [
              "0.327"
            ]
          },
          "metadata": {},
          "execution_count": 19
        }
      ]
    },
    {
      "cell_type": "code",
      "source": [
        "monte(100000)"
      ],
      "metadata": {
        "colab": {
          "base_uri": "https://localhost:8080/"
        },
        "id": "ygDyc5Ajydy3",
        "outputId": "0516832d-ab50-46b9-d86e-791bff7abc88"
      },
      "execution_count": null,
      "outputs": [
        {
          "output_type": "execute_result",
          "data": {
            "text/plain": [
              "0.33347"
            ]
          },
          "metadata": {},
          "execution_count": 21
        }
      ]
    },
    {
      "cell_type": "code",
      "source": [
        "import numpy as np\n",
        "def monte_mkdata(n):\n",
        "  np.random.seed(0)\n",
        "  px = []\n",
        "  py = []\n",
        "  for i in range(n):\n",
        "    x = np.random.random()\n",
        "    y = np.random.random()\n",
        "    if y < x**2:\n",
        "      px.append(x)\n",
        "      py.append(y)\n",
        "  return px, py"
      ],
      "metadata": {
        "id": "TyYPC1H7yvp_"
      },
      "execution_count": null,
      "outputs": []
    },
    {
      "cell_type": "code",
      "source": [
        "import matplotlib.pyplot as plt\n",
        "# 散布図を描画\n",
        "plt.scatter(*monte_mkdata(10000), s=1, c=\"red\")\n",
        "xrange = np.arange(0, 1, 0.01)\n",
        "plt.plot(xrange, xrange**2)\n",
        "plt.show()"
      ],
      "metadata": {
        "colab": {
          "base_uri": "https://localhost:8080/",
          "height": 265
        },
        "id": "HRoVzr1kzUXX",
        "outputId": "bbf230fa-53b7-4978-97b8-eee809ce23c1"
      },
      "execution_count": null,
      "outputs": [
        {
          "output_type": "display_data",
          "data": {
            "text/plain": [
              "<Figure size 432x288 with 1 Axes>"
            ],
            "image/png": "[encoded data removed]"
          },
          "metadata": {
            "needs_background": "light"
          }
        }
      ]
    },
    {
      "cell_type": "markdown",
      "source": [
        "# 目標4： モンテカルロ法により標準正規分布のサンプリングを行う"
      ],
      "metadata": {
        "id": "1fl3CcTN0Tr5"
      }
    },
    {
      "cell_type": "code",
      "source": [
        "import numpy as np\n",
        "def stdnorm(x):\n",
        "  return 1/np.sqrt(2*np.pi) * np.exp(-(x**2/2))"
      ],
      "metadata": {
        "id": "zV0B3qI10Uo3"
      },
      "execution_count": null,
      "outputs": []
    },
    {
      "cell_type": "code",
      "source": [
        "def monte_mksample(func, xmin, xmax, ymin, ymax, n):\n",
        "  np.random.seed(0)\n",
        "  data = [] # 網掛け部分に入ったxを記録するリスト\n",
        "  for i in range(n):\n",
        "    x = np.random.uniform(xmin, xmax) # xmin～xmaxの一様乱数\n",
        "    y = np.random.uniform(ymin, ymax) # ymin～ymaxの一様乱数\n",
        "    if y < func(x):\n",
        "      data.append(x)\n",
        "  return data"
      ],
      "metadata": {
        "id": "xUElGO_r0nj_"
      },
      "execution_count": null,
      "outputs": []
    },
    {
      "cell_type": "code",
      "source": [
        "ymax = stdnorm(0) # x=0の時yは最大となる\n",
        "data = monte_mksample(stdnorm, -6, 6, 0, ymax, 10000)\n",
        "# print(data)"
      ],
      "metadata": {
        "id": "r1V2ISww1BNI"
      },
      "execution_count": null,
      "outputs": []
    },
    {
      "cell_type": "code",
      "source": [
        "import matplotlib.pyplot as plt\n",
        "# ヒストグラムの作成\n",
        "plt.hist(data, bins=100, density=True)\n",
        "xrange = np.arange(-6, 6, 0.01)\n",
        "y = [stdnorm(x) for x in xrange]\n",
        "plt.plot(xrange, y)\n",
        "plt.show()"
      ],
      "metadata": {
        "colab": {
          "base_uri": "https://localhost:8080/",
          "height": 265
        },
        "id": "W3XnUOU71qun",
        "outputId": "4dac57aa-873b-4b92-b01d-b99d742e6d54"
      },
      "execution_count": null,
      "outputs": [
        {
          "output_type": "display_data",
          "data": {
            "text/plain": [
              "<Figure size 432x288 with 1 Axes>"
            ],
            "image/png": "[encoded data removed]"
          },
          "metadata": {
            "needs_background": "light"
          }
        }
      ]
    },
    {
      "cell_type": "code",
      "source": [
        "import numpy as np\n",
        "\n",
        "x = np.array(data) # dataをNumPyの配列にしておく\n",
        "np.count_nonzero((-2 <= x) & (x < 2)) / len(x)"
      ],
      "metadata": {
        "colab": {
          "base_uri": "https://localhost:8080/"
        },
        "id": "RrNTd0sN2HJa",
        "outputId": "11ce006a-7dec-462e-c2b4-443dcd08938a"
      },
      "execution_count": null,
      "outputs": [
        {
          "output_type": "execute_result",
          "data": {
            "text/plain": [
              "0.9514699020065329"
            ]
          },
          "metadata": {},
          "execution_count": 37
        }
      ]
    },
    {
      "cell_type": "markdown",
      "source": [
        "# 練習問題と解答例"
      ],
      "metadata": {
        "id": "Zr5489pM3QA1"
      }
    },
    {
      "cell_type": "markdown",
      "source": [
        "## （1）台形公式とシンプソンの公式で標準正規分布の累積確率を求める"
      ],
      "metadata": {
        "id": "ZwwR1Xxw3U0f"
      }
    },
    {
      "cell_type": "code",
      "source": [
        "integral(stdnorm, -2, 2, 0.001)"
      ],
      "metadata": {
        "colab": {
          "base_uri": "https://localhost:8080/"
        },
        "id": "3Ier6orQ3QqX",
        "outputId": "1ec52182-68c6-4ddf-d869-d3ce5f43baa6"
      },
      "execution_count": null,
      "outputs": [
        {
          "output_type": "execute_result",
          "data": {
            "text/plain": [
              "0.9544997181067352"
            ]
          },
          "metadata": {},
          "execution_count": 41
        }
      ]
    },
    {
      "cell_type": "code",
      "source": [
        "simpson(stdnorm, -2, 2, 0.001)"
      ],
      "metadata": {
        "colab": {
          "base_uri": "https://localhost:8080/"
        },
        "id": "tSbvCVpY4m4F",
        "outputId": "b2f8995b-b645-4967-80d8-97ac37a36184"
      },
      "execution_count": null,
      "outputs": [
        {
          "output_type": "execute_result",
          "data": {
            "text/plain": [
              "0.9544997361036403"
            ]
          },
          "metadata": {},
          "execution_count": 42
        }
      ]
    },
    {
      "cell_type": "markdown",
      "source": [
        "シンプソンの公式の方が良い近似値となっている\n",
        "\n",
        "![image.png](data:image/png;base64,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)"
      ],
      "metadata": {
        "id": "eH3OLZzq4uYk"
      }
    },
    {
      "cell_type": "markdown",
      "source": [
        "## （2）曲線の長さを求める"
      ],
      "metadata": {
        "id": "LhcXViyZ3WiC"
      }
    },
    {
      "cell_type": "code",
      "source": [
        "import numpy as np\n",
        "def derivative(f, x, h):\n",
        "  return (f(x+h) - f(x)) / h\n",
        "\n",
        "def parabolic(x):\n",
        "  return x**2\n",
        "\n",
        "def linelength(func, xmin, xmax, h):\n",
        "  length = 0\n",
        "  for x in np.arange(xmin, xmax, h):\n",
        "    length += np.sqrt(h**2 + (h * derivative(func, x, h))**2)\n",
        "  return length"
      ],
      "metadata": {
        "id": "M0qmBLrI3ZfX"
      },
      "execution_count": null,
      "outputs": []
    },
    {
      "cell_type": "code",
      "source": [
        "linelength(parabolic, 0, 1, 0.0001)"
      ],
      "metadata": {
        "colab": {
          "base_uri": "https://localhost:8080/"
        },
        "id": "LSQAGR9b50zT",
        "outputId": "d399a22f-77e4-46ef-971b-90738ba0aee3"
      },
      "execution_count": null,
      "outputs": [
        {
          "output_type": "execute_result",
          "data": {
            "text/plain": [
              "1.4789428567991607"
            ]
          },
          "metadata": {},
          "execution_count": 48
        }
      ]
    },
    {
      "cell_type": "markdown",
      "source": [
        "## （3）マルコフ連鎖モンテカルロ法により標準正規分布のサンプリングを行う"
      ],
      "metadata": {
        "id": "7MCPr1zk3aBd"
      }
    },
    {
      "cell_type": "code",
      "source": [
        "def metro(n):\n",
        "  np.random.seed(0)\n",
        "  x = 0\n",
        "  data = []\n",
        "\n",
        "  for i in range(n):\n",
        "    xnext = x + np.random.uniform(-0.5, 0.5) # 次の値の候補\n",
        "    alpha = min(1, stdnorm(xnext) / stdnorm(x)) # 次の値の候補を採用する確率α\n",
        "    r = np.random.random()\n",
        "    # rがα以下ならxnextを次の値とする（確率αで次の値となる）\n",
        "    # そうでなければ何もしない（確率1-αで今回の値をそのまま次の値とする）\n",
        "    if r <= alpha:\n",
        "      x = xnext\n",
        "    data.append(x)\n",
        "  return data"
      ],
      "metadata": {
        "id": "2Q0RpJia3dHH"
      },
      "execution_count": null,
      "outputs": []
    },
    {
      "cell_type": "code",
      "source": [
        "import matplotlib.pyplot as plt\n",
        "data = metro(100000) # 関数metroを使って標準正規分布のデータを作成\n",
        "# ヒストグラムの作成\n",
        "plt.hist(data, bins=100, density=True)\n",
        "xrange = np.arange(-6, 6, 0.01)\n",
        "y = [stdnorm(x) for x in xrange]\n",
        "plt.plot(xrange, y)\n",
        "plt.show()"
      ],
      "metadata": {
        "colab": {
          "base_uri": "https://localhost:8080/",
          "height": 265
        },
        "id": "Roq7efRK7WA_",
        "outputId": "1511dcf8-48ef-4f30-9bc1-4c804883ada0"
      },
      "execution_count": null,
      "outputs": [
        {
          "output_type": "display_data",
          "data": {
            "text/plain": [
              "<Figure size 432x288 with 1 Axes>"
            ],
            "image/png": "[encoded data removed]"
          },
          "metadata": {
            "needs_background": "light"
          }
        }
      ]
    },
    {
      "cell_type": "code",
      "source": [
        "x = np.array(data)\n",
        "for sigma in range(1, 6):\n",
        "  print(np.count_nonzero((-sigma <= x) & (x < sigma)) / len(x))"
      ],
      "metadata": {
        "colab": {
          "base_uri": "https://localhost:8080/"
        },
        "id": "O_Gy7Vq5783f",
        "outputId": "dd79798e-26ec-478f-ce69-19b6911654d7"
      },
      "execution_count": null,
      "outputs": [
        {
          "output_type": "stream",
          "name": "stdout",
          "text": [
            "0.6916\n",
            "0.95867\n",
            "0.99816\n",
            "1.0\n",
            "1.0\n"
          ]
        }
      ]
    },
    {
      "cell_type": "code",
      "source": [],
      "metadata": {
        "id": "XPlNWXkD8ZzY"
      },
      "execution_count": null,
      "outputs": []
    }
  ]
}