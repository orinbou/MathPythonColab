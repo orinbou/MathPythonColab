{
  "nbformat": 4,
  "nbformat_minor": 0,
  "metadata": {
    "colab": {
      "provenance": [],
      "authorship_tag": "ABX9TyNtZ2x+wCC99l7UqCJidm48",
      "include_colab_link": true
    },
    "kernelspec": {
      "name": "python3",
      "display_name": "Python 3"
    },
    "language_info": {
      "name": "python"
    }
  },
  "cells": [
    {
      "cell_type": "markdown",
      "metadata": {
        "id": "view-in-github",
        "colab_type": "text"
      },
      "source": [
        "<a href=\"https://colab.research.google.com/github/orinbou/MathPythonColab/blob/main/chapter/%E7%AC%AC5%E5%9B%9E%E3%80%80Python%E3%81%A7%E3%82%B0%E3%83%A9%E3%83%95%E3%82%92%E6%8F%8F%E3%81%93%E3%81%86_%E2%80%95_%E6%A3%92%E3%82%B0%E3%83%A9%E3%83%95%EF%BC%8F%E3%83%92%E3%82%B9%E3%83%88%E3%82%B0%E3%83%A9%E3%83%A0%EF%BC%8F%E6%95%A3%E5%B8%83%E5%9B%B3%EF%BC%8F%E3%83%92%E3%83%BC%E3%83%88%E3%83%9E%E3%83%83%E3%83%97.ipynb\" target=\"_parent\"><img src=\"https://colab.research.google.com/assets/colab-badge.svg\" alt=\"Open In Colab\"/></a>"
      ]
    },
    {
      "cell_type": "markdown",
      "source": [
        "# 目標3： さまざまなグラフを描画する"
      ],
      "metadata": {
        "id": "GXTWtGg-Jnyr"
      }
    },
    {
      "cell_type": "markdown",
      "source": [
        "## 6. さまざまなグラフを描画する（プログラムの作成）"
      ],
      "metadata": {
        "id": "sFfYdQOcJvx8"
      }
    },
    {
      "cell_type": "markdown",
      "source": [
        "### ［1］棒グラフの作成"
      ],
      "metadata": {
        "id": "4nmc9T6DLPP7"
      }
    },
    {
      "cell_type": "code",
      "source": [
        "import matplotlib.pyplot as plt\n",
        "\n",
        "location = ['Ome', 'Hachoji', 'Tokyo', 'Oshima', 'Miyakejima', 'Hachijojima']\n",
        "amount = [248.5, 273.0, 310.0, 434.5, 408.5, 229.0]\n",
        "\n",
        "plt.bar(location, amount)"
      ],
      "metadata": {
        "colab": {
          "base_uri": "https://localhost:8080/",
          "height": 282
        },
        "id": "IQxw8VBnJomG",
        "outputId": "85e3d0dc-e13e-4760-f078-e13e44c6cef4"
      },
      "execution_count": null,
      "outputs": [
        {
          "output_type": "execute_result",
          "data": {
            "text/plain": [
              "<BarContainer object of 6 artists>"
            ]
          },
          "metadata": {},
          "execution_count": 1
        },
        {
          "output_type": "display_data",
          "data": {
            "text/plain": [
              "<Figure size 432x288 with 1 Axes>"
            ],
            "image/png": "[encoded data removed]"
          },
          "metadata": {
            "needs_background": "light"
          }
        }
      ]
    },
    {
      "cell_type": "code",
      "source": [
        "import matplotlib.pyplot as plt\n",
        "\n",
        "location = ['Ome', 'Hachoji', 'Tokyo', 'Oshima', 'Miyakejima', 'Hachijojima']\n",
        "amount202007 = [337.5, 350.0, 370.0, 623.5, 746.5, 462.5]\n",
        "amount202107 = [248.5, 273.0, 310.0, 434.5, 408.5, 229.0]\n",
        "\n",
        "plt.bar(location, amount202007, width=-0.4, align='edge', label='2020/7')\n",
        "plt.bar(location, amount202107, width=0.4, align='edge', label='2021/7')\n",
        "plt.legend(loc=2)"
      ],
      "metadata": {
        "colab": {
          "base_uri": "https://localhost:8080/",
          "height": 282
        },
        "id": "LMegkaKRLZIG",
        "outputId": "25b10582-3c34-4744-b0a0-d53a541fce66"
      },
      "execution_count": null,
      "outputs": [
        {
          "output_type": "execute_result",
          "data": {
            "text/plain": [
              "<matplotlib.legend.Legend at 0x7fc508a7e850>"
            ]
          },
          "metadata": {},
          "execution_count": 2
        },
        {
          "output_type": "display_data",
          "data": {
            "text/plain": [
              "<Figure size 432x288 with 1 Axes>"
            ],
            "image/png": "[encoded data removed]"
          },
          "metadata": {
            "needs_background": "light"
          }
        }
      ]
    },
    {
      "cell_type": "markdown",
      "source": [
        "### ［2］ヒストグラムの作成"
      ],
      "metadata": {
        "id": "cPNKNCGqLUiV"
      }
    },
    {
      "cell_type": "code",
      "source": [
        "import pandas as pd\n",
        "df = pd.read_csv('https://raw.githubusercontent.com/Gessys/math/main/data/score.csv')\n",
        "df.head()"
      ],
      "metadata": {
        "colab": {
          "base_uri": "https://localhost:8080/",
          "height": 206
        },
        "id": "EVqSELxmLgah",
        "outputId": "b2d3a5ea-8bd0-48be-d139-6191702eeb7e"
      },
      "execution_count": null,
      "outputs": [
        {
          "output_type": "execute_result",
          "data": {
            "text/plain": [
              "   成績 評価\n",
              "0  74  B\n",
              "1  72  B\n",
              "2  82  A\n",
              "3  70  B\n",
              "4  71  B"
            ],
            "text/html": [
              "\n",
              "  <div id=\"df-8065ef32-fd43-4328-9dca-5d6589230177\">\n",
              "    <div class=\"colab-df-container\">\n",
              "      <div>\n",
              "<style scoped>\n",
              "    .dataframe tbody tr th:only-of-type {\n",
              "        vertical-align: middle;\n",
              "    }\n",
              "\n",
              "    .dataframe tbody tr th {\n",
              "        vertical-align: top;\n",
              "    }\n",
              "\n",
              "    .dataframe thead th {\n",
              "        text-align: right;\n",
              "    }\n",
              "</style>\n",
              "<table border=\"1\" class=\"dataframe\">\n",
              "  <thead>\n",
              "    <tr style=\"text-align: right;\">\n",
              "      <th></th>\n",
              "      <th>成績</th>\n",
              "      <th>評価</th>\n",
              "    </tr>\n",
              "  </thead>\n",
              "  <tbody>\n",
              "    <tr>\n",
              "      <th>0</th>\n",
              "      <td>74</td>\n",
              "      <td>B</td>\n",
              "    </tr>\n",
              "    <tr>\n",
              "      <th>1</th>\n",
              "      <td>72</td>\n",
              "      <td>B</td>\n",
              "    </tr>\n",
              "    <tr>\n",
              "      <th>2</th>\n",
              "      <td>82</td>\n",
              "      <td>A</td>\n",
              "    </tr>\n",
              "    <tr>\n",
              "      <th>3</th>\n",
              "      <td>70</td>\n",
              "      <td>B</td>\n",
              "    </tr>\n",
              "    <tr>\n",
              "      <th>4</th>\n",
              "      <td>71</td>\n",
              "      <td>B</td>\n",
              "    </tr>\n",
              "  </tbody>\n",
              "</table>\n",
              "</div>\n",
              "      <button class=\"colab-df-convert\" onclick=\"convertToInteractive('df-8065ef32-fd43-4328-9dca-5d6589230177')\"\n",
              "              title=\"Convert this dataframe to an interactive table.\"\n",
              "              style=\"display:none;\">\n",
              "        \n",
              "  <svg xmlns=\"http://www.w3.org/2000/svg\" height=\"24px\"viewBox=\"0 0 24 24\"\n",
              "       width=\"24px\">\n",
              "    <path d=\"M0 0h24v24H0V0z\" fill=\"none\"/>\n",
              "    <path d=\"M18.56 5.44l.94 2.06.94-2.06 2.06-.94-2.06-.94-.94-2.06-.94 2.06-2.06.94zm-11 1L8.5 8.5l.94-2.06 2.06-.94-2.06-.94L8.5 2.5l-.94 2.06-2.06.94zm10 10l.94 2.06.94-2.06 2.06-.94-2.06-.94-.94-2.06-.94 2.06-2.06.94z\"/><path d=\"M17.41 7.96l-1.37-1.37c-.4-.4-.92-.59-1.43-.59-.52 0-1.04.2-1.43.59L10.3 9.45l-7.72 7.72c-.78.78-.78 2.05 0 2.83L4 21.41c.39.39.9.59 1.41.59.51 0 1.02-.2 1.41-.59l7.78-7.78 2.81-2.81c.8-.78.8-2.07 0-2.86zM5.41 20L4 18.59l7.72-7.72 1.47 1.35L5.41 20z\"/>\n",
              "  </svg>\n",
              "      </button>\n",
              "      \n",
              "  <style>\n",
              "    .colab-df-container {\n",
              "      display:flex;\n",
              "      flex-wrap:wrap;\n",
              "      gap: 12px;\n",
              "    }\n",
              "\n",
              "    .colab-df-convert {\n",
              "      background-color: #E8F0FE;\n",
              "      border: none;\n",
              "      border-radius: 50%;\n",
              "      cursor: pointer;\n",
              "      display: none;\n",
              "      fill: #1967D2;\n",
              "      height: 32px;\n",
              "      padding: 0 0 0 0;\n",
              "      width: 32px;\n",
              "    }\n",
              "\n",
              "    .colab-df-convert:hover {\n",
              "      background-color: #E2EBFA;\n",
              "      box-shadow: 0px 1px 2px rgba(60, 64, 67, 0.3), 0px 1px 3px 1px rgba(60, 64, 67, 0.15);\n",
              "      fill: #174EA6;\n",
              "    }\n",
              "\n",
              "    [theme=dark] .colab-df-convert {\n",
              "      background-color: #3B4455;\n",
              "      fill: #D2E3FC;\n",
              "    }\n",
              "\n",
              "    [theme=dark] .colab-df-convert:hover {\n",
              "      background-color: #434B5C;\n",
              "      box-shadow: 0px 1px 3px 1px rgba(0, 0, 0, 0.15);\n",
              "      filter: drop-shadow(0px 1px 2px rgba(0, 0, 0, 0.3));\n",
              "      fill: #FFFFFF;\n",
              "    }\n",
              "  </style>\n",
              "\n",
              "      <script>\n",
              "        const buttonEl =\n",
              "          document.querySelector('#df-8065ef32-fd43-4328-9dca-5d6589230177 button.colab-df-convert');\n",
              "        buttonEl.style.display =\n",
              "          google.colab.kernel.accessAllowed ? 'block' : 'none';\n",
              "\n",
              "        async function convertToInteractive(key) {\n",
              "          const element = document.querySelector('#df-8065ef32-fd43-4328-9dca-5d6589230177');\n",
              "          const dataTable =\n",
              "            await google.colab.kernel.invokeFunction('convertToInteractive',\n",
              "                                                     [key], {});\n",
              "          if (!dataTable) return;\n",
              "\n",
              "          const docLinkHtml = 'Like what you see? Visit the ' +\n",
              "            '<a target=\"_blank\" href=https://colab.research.google.com/notebooks/data_table.ipynb>data table notebook</a>'\n",
              "            + ' to learn more about interactive tables.';\n",
              "          element.innerHTML = '';\n",
              "          dataTable['output_type'] = 'display_data';\n",
              "          await google.colab.output.renderOutput(dataTable, element);\n",
              "          const docLink = document.createElement('div');\n",
              "          docLink.innerHTML = docLinkHtml;\n",
              "          element.appendChild(docLink);\n",
              "        }\n",
              "      </script>\n",
              "    </div>\n",
              "  </div>\n",
              "  "
            ]
          },
          "metadata": {},
          "execution_count": 3
        }
      ]
    },
    {
      "cell_type": "code",
      "source": [
        "import pandas as pd\n",
        "import matplotlib.pyplot as plt\n",
        "\n",
        "df = pd.read_csv('https://raw.githubusercontent.com/Gessys/math/main/data/score.csv')\n",
        "\n",
        "scores = df['成績'] # 「成績」列データを取得\n",
        "plt.hist(scores, bins=8, range=[20, 100])"
      ],
      "metadata": {
        "colab": {
          "base_uri": "https://localhost:8080/",
          "height": 317
        },
        "id": "obor34WELn0H",
        "outputId": "55580e9f-b23b-49c8-ce80-58f4e425da1f"
      },
      "execution_count": null,
      "outputs": [
        {
          "output_type": "execute_result",
          "data": {
            "text/plain": [
              "(array([ 0.,  0.,  1.,  4., 25., 36., 26.,  1.]),\n",
              " array([ 20.,  30.,  40.,  50.,  60.,  70.,  80.,  90., 100.]),\n",
              " <a list of 8 Patch objects>)"
            ]
          },
          "metadata": {},
          "execution_count": 4
        },
        {
          "output_type": "display_data",
          "data": {
            "text/plain": [
              "<Figure size 432x288 with 1 Axes>"
            ],
            "image/png": "[encoded data removed]"
          },
          "metadata": {
            "needs_background": "light"
          }
        }
      ]
    },
    {
      "cell_type": "code",
      "source": [
        "import matplotlib.pyplot as plt # なくても動くが、plt.show()のために書いた\n",
        "import pandas as pd\n",
        "\n",
        "df = pd.read_csv('https://raw.githubusercontent.com/Gessys/math/main/data/score.csv')\n",
        "\n",
        "df.hist(column='成績', bins=8, range=[20, 100]) # pandasでもグラフが作成できる\n",
        "plt.show()"
      ],
      "metadata": {
        "colab": {
          "base_uri": "https://localhost:8080/",
          "height": 281
        },
        "id": "smLQU5K2Ls1N",
        "outputId": "7bf5d7e0-19b3-4e85-930b-0438b2b9883d"
      },
      "execution_count": null,
      "outputs": [
        {
          "output_type": "display_data",
          "data": {
            "text/plain": [
              "<Figure size 432x288 with 1 Axes>"
            ],
            "image/png": "[encoded data removed]"
          },
          "metadata": {
            "needs_background": "light"
          }
        }
      ]
    },
    {
      "cell_type": "markdown",
      "source": [
        "### ［3］箱ひげ図を作成する"
      ],
      "metadata": {
        "id": "MBTnvioHMAP4"
      }
    },
    {
      "cell_type": "code",
      "source": [
        "import matplotlib.pyplot as plt\n",
        "\n",
        "english = [98, 77, 64, 45, 58, 62, 89, 30]\n",
        "mathmatics = [88, 54, 72, 85, 70, 81, 63, 27]\n",
        "\n",
        "plt.boxplot([english, mathmatics],labels=['english', 'mathmatics'])\n",
        "plt.show()"
      ],
      "metadata": {
        "colab": {
          "base_uri": "https://localhost:8080/",
          "height": 265
        },
        "id": "R0AWVFLUMBnY",
        "outputId": "5753a930-0ffe-43fd-cb1c-c5ec78ca9c30"
      },
      "execution_count": null,
      "outputs": [
        {
          "output_type": "display_data",
          "data": {
            "text/plain": [
              "<Figure size 432x288 with 1 Axes>"
            ],
            "image/png": "[encoded data removed]"
          },
          "metadata": {
            "needs_background": "light"
          }
        }
      ]
    },
    {
      "cell_type": "code",
      "source": [
        "import pandas as pd\n",
        "\n",
        "english = [98, 77, 64, 45, 58, 62, 89, 30]\n",
        "mathmatics = [88, 54, 72, 85, 70, 81, 63, 27]\n",
        "\n",
        "sr_e = pd.Series(english) # リストをpandasのSeriesに変換\n",
        "print(sr_e.describe()) # describeメソッドを使って要約統計量を求める\n",
        "# 数学の要約統計量を求めるためのコードは、ここに書くとよい"
      ],
      "metadata": {
        "colab": {
          "base_uri": "https://localhost:8080/"
        },
        "id": "VxoTxOhaMFYK",
        "outputId": "45880140-b7b4-4638-d06d-2be7badfd5b6"
      },
      "execution_count": null,
      "outputs": [
        {
          "output_type": "stream",
          "name": "stdout",
          "text": [
            "count     8.00000\n",
            "mean     65.37500\n",
            "std      22.33471\n",
            "min      30.00000\n",
            "25%      54.75000\n",
            "50%      63.00000\n",
            "75%      80.00000\n",
            "max      98.00000\n",
            "dtype: float64\n"
          ]
        }
      ]
    },
    {
      "cell_type": "markdown",
      "source": [
        "### ［4］散布図の作成"
      ],
      "metadata": {
        "id": "scXdqZrjMStd"
      }
    },
    {
      "cell_type": "code",
      "source": [
        "import matplotlib.pyplot as plt\n",
        "\n",
        "english = [98, 77, 64, 45, 58, 62, 89, 30]\n",
        "mathmatics = [88, 54, 72, 85, 70, 81, 63, 27]\n",
        "\n",
        "plt.scatter(english, mathmatics, marker='*')\n",
        "plt.xlabel('English')\n",
        "plt.ylabel('Math')"
      ],
      "metadata": {
        "colab": {
          "base_uri": "https://localhost:8080/",
          "height": 297
        },
        "id": "1dfIZJq6MTM3",
        "outputId": "53d7a826-4b12-4168-9aa8-1ba51ee44f65"
      },
      "execution_count": null,
      "outputs": [
        {
          "output_type": "execute_result",
          "data": {
            "text/plain": [
              "Text(0, 0.5, 'Math')"
            ]
          },
          "metadata": {},
          "execution_count": 10
        },
        {
          "output_type": "display_data",
          "data": {
            "text/plain": [
              "<Figure size 432x288 with 1 Axes>"
            ],
            "image/png": "[encoded data removed]"
          },
          "metadata": {
            "needs_background": "light"
          }
        }
      ]
    },
    {
      "cell_type": "markdown",
      "source": [
        "### ［5］ヒートマップを作成する"
      ],
      "metadata": {
        "id": "wGLbdfNUMYgO"
      }
    },
    {
      "cell_type": "code",
      "source": [
        "import matplotlib.pyplot as plt\n",
        "\n",
        "data=[[1.0, 0.0, 1.0],\n",
        "      [0.5, 1.0, 0.2]]\n",
        "\n",
        "plt.imshow(data, cmap='gray')"
      ],
      "metadata": {
        "colab": {
          "base_uri": "https://localhost:8080/",
          "height": 286
        },
        "id": "6A7sHduNMYq4",
        "outputId": "23c3a2bf-9d22-42ce-c902-8506eb4d9478"
      },
      "execution_count": null,
      "outputs": [
        {
          "output_type": "execute_result",
          "data": {
            "text/plain": [
              "<matplotlib.image.AxesImage at 0x7fc501741dc0>"
            ]
          },
          "metadata": {},
          "execution_count": 11
        },
        {
          "output_type": "display_data",
          "data": {
            "text/plain": [
              "<Figure size 432x288 with 1 Axes>"
            ],
            "image/png": "[encoded data removed]"
          },
          "metadata": {
            "needs_background": "light"
          }
        }
      ]
    },
    {
      "cell_type": "code",
      "source": [
        "import matplotlib.pyplot as plt\n",
        "\n",
        "data=[[255, 0, 255],\n",
        "      [127, 255, 51]]\n",
        "\n",
        "plt.imshow(data, cmap='gray')"
      ],
      "metadata": {
        "colab": {
          "base_uri": "https://localhost:8080/",
          "height": 286
        },
        "id": "MRuJtR9hMmyB",
        "outputId": "3875aa1e-de82-4cd9-b5e9-e962fbd53c71"
      },
      "execution_count": null,
      "outputs": [
        {
          "output_type": "execute_result",
          "data": {
            "text/plain": [
              "<matplotlib.image.AxesImage at 0x7fc5016ab550>"
            ]
          },
          "metadata": {},
          "execution_count": 12
        },
        {
          "output_type": "display_data",
          "data": {
            "text/plain": [
              "<Figure size 432x288 with 1 Axes>"
            ],
            "image/png": "[encoded data removed]"
          },
          "metadata": {
            "needs_background": "light"
          }
        }
      ]
    },
    {
      "cell_type": "code",
      "source": [
        "import matplotlib.pyplot as plt\n",
        "\n",
        "data=[[[233, 55, 36], [231, 50, 245], [168, 245, 253]],\n",
        "      [[104, 223, 181], [247, 236, 80], [247, 203, 248]]]\n",
        "\n",
        "plt.imshow(data)\n",
        "plt.axis('off') # 目盛りや軸を非表示にする設定"
      ],
      "metadata": {
        "colab": {
          "base_uri": "https://localhost:8080/",
          "height": 265
        },
        "id": "64_nfKz4MtNl",
        "outputId": "bba4c632-bcee-4242-904f-dcf3bc588a07"
      },
      "execution_count": null,
      "outputs": [
        {
          "output_type": "execute_result",
          "data": {
            "text/plain": [
              "(-0.5, 2.5, 1.5, -0.5)"
            ]
          },
          "metadata": {},
          "execution_count": 13
        },
        {
          "output_type": "display_data",
          "data": {
            "text/plain": [
              "<Figure size 432x288 with 1 Axes>"
            ],
            "image/png": "[encoded data removed]"
          },
          "metadata": {
            "needs_background": "light"
          }
        }
      ]
    },
    {
      "cell_type": "code",
      "source": [
        "import matplotlib.pyplot as plt\n",
        "\n",
        "black = [0, 0, 0] # 黒\n",
        "greenblue = [76, 178, 153] # 緑青っぽい色\n",
        "\n",
        "data = [[black if (x + y)% 2 == 0 else greenblue for x in range(10)] for y in range(10)]\n",
        "plt.imshow(data)"
      ],
      "metadata": {
        "colab": {
          "base_uri": "https://localhost:8080/",
          "height": 282
        },
        "id": "qurvh6mbMzHP",
        "outputId": "9308d739-1bc0-4589-9501-b29f0259e871"
      },
      "execution_count": null,
      "outputs": [
        {
          "output_type": "execute_result",
          "data": {
            "text/plain": [
              "<matplotlib.image.AxesImage at 0x7fc50164eeb0>"
            ]
          },
          "metadata": {},
          "execution_count": 15
        },
        {
          "output_type": "display_data",
          "data": {
            "text/plain": [
              "<Figure size 432x288 with 1 Axes>"
            ],
            "image/png": "[encoded data removed]"
          },
          "metadata": {
            "needs_background": "light"
          }
        }
      ]
    },
    {
      "cell_type": "code",
      "source": [
        "import matplotlib.pyplot as plt\n",
        "\n",
        "cluster=[[12, 25, 54, 12,  8],\n",
        "         [14, 36, 44,  8,  9],\n",
        "         [ 0,  1, 12, 48, 65],\n",
        "         [ 4,  4,  0, 65, 23],\n",
        "         [ 1,  5,  8, 14, 74]]\n",
        "\n",
        "plt.imshow(cluster, cmap='Reds') # 画像の作成(ヒートマップの作成)\n",
        "plt.title('heatmap') # タイトルの指定\n",
        "plt.xlabel('age') # X軸のラベル\n",
        "plt.ylabel('cluster') # Y軸のラベル\n",
        "plt.xticks(range(5), ['10-19', '20-29', '30-39', '40-49', '50-']) # 目盛りを置き換える\n",
        "plt.show()"
      ],
      "metadata": {
        "colab": {
          "base_uri": "https://localhost:8080/",
          "height": 295
        },
        "id": "lh062-5iM4E6",
        "outputId": "7737e538-4abf-4f06-df2e-1ac4589f17e5"
      },
      "execution_count": null,
      "outputs": [
        {
          "output_type": "display_data",
          "data": {
            "text/plain": [
              "<Figure size 432x288 with 1 Axes>"
            ],
            "image/png": "[encoded data removed]"
          },
          "metadata": {
            "needs_background": "light"
          }
        }
      ]
    },
    {
      "cell_type": "markdown",
      "source": [
        "### ［6］複数のグラフを並べて表示する"
      ],
      "metadata": {
        "id": "tyl6IGFJM-fr"
      }
    },
    {
      "cell_type": "code",
      "source": [
        "import numpy as np\n",
        "import matplotlib.pyplot as plt\n",
        "\n",
        "def quadratic(x): # xの2乗\n",
        "  return x**2\n",
        "\n",
        "def exponential(x): # 2のx乗\n",
        "  return 2**x\n",
        "\n",
        "# 指定した関数funcを基に、xminからxmaxまで、step刻みでデータを作る（前回作成したもの）\n",
        "def makedata(func, xmin, xmax, step, **args):\n",
        "  x = np.arange(xmin, xmax, step)\n",
        "  y = func(x, **args)\n",
        "  return x, y\n",
        "\n",
        "# データを作る\n",
        "qx, qy = makedata(quadratic, 0, 10, 0.1) # x=0から10まで0.1刻みで\n",
        "ex, ey = makedata(exponential, 0, 10, 0.1)\n",
        "\n",
        "# 単純に2つのグラフを描く\n",
        "plt.figure(figsize=[7, 4])\n",
        "plt.plot(qx, qy, label='x^2')\n",
        "plt.plot(ex, ey, label='2^x')\n",
        "plt.legend(loc=2)\n",
        "plt.show()  # ここまでをいったん表示\n",
        "\n",
        "# 複数のグラフを並べて描く\n",
        "plt.figure(figsize=[7, 4]) # デフォルトのサイズだと少し重なるのでやや横長に\n",
        "\n",
        "# xの2乗のグラフ\n",
        "ax1 = plt.subplot(121)  # 1行2列の1つ目のグラフ\n",
        "ax1.axis(ymax=1000)  # y軸の最大値を1000とする\n",
        "ax1.plot(qx, qy, color='C0', label='x^2')\n",
        "ax1.legend(loc=2)\n",
        "\n",
        "# 2のx乗のグラフ\n",
        "ax2 = plt.subplot(122)  # 1行2列の2つ目のグラフ\n",
        "ax2.axis(ymax=1000)\n",
        "ax2.plot(ex, ey, color='C1', label='2^x')\n",
        "ax2.legend(loc=2)\n",
        "plt.show()  # 2つ目を表示（この行がなくても自動的に表示される）"
      ],
      "metadata": {
        "colab": {
          "base_uri": "https://localhost:8080/",
          "height": 521
        },
        "id": "71l6LChZM_96",
        "outputId": "3aa95b84-109c-4771-b217-0a93ff2ec595"
      },
      "execution_count": null,
      "outputs": [
        {
          "output_type": "display_data",
          "data": {
            "text/plain": [
              "<Figure size 504x288 with 1 Axes>"
            ],
            "image/png": "[encoded data removed]"
          },
          "metadata": {
            "needs_background": "light"
          }
        },
        {
          "output_type": "display_data",
          "data": {
            "text/plain": [
              "<Figure size 504x288 with 2 Axes>"
            ],
            "image/png": "[encoded data removed]"
          },
          "metadata": {
            "needs_background": "light"
          }
        }
      ]
    },
    {
      "cell_type": "markdown",
      "source": [
        "# 練習問題と解答例"
      ],
      "metadata": {
        "id": "IJUHC2QYJrt7"
      }
    },
    {
      "cell_type": "markdown",
      "source": [
        "## （1）3D散布図と個別の2D散布図を並べて描画する"
      ],
      "metadata": {
        "id": "46KsWrZvJysM"
      }
    },
    {
      "cell_type": "code",
      "source": [
        "import matplotlib.pyplot as plt\n",
        "\n",
        "english = [98, 77, 64, 45, 58, 62, 89, 30]\n",
        "mathmatics = [88, 54, 72, 85, 70, 81, 63, 27]\n",
        "language = [87, 84, 61, 46, 66, 68, 78, 33]\n",
        "\n",
        "plt.figure(figsize=[12,8])\n",
        "ax1 = plt.subplot(2,2,1, projection='3d') # 最初のだけ3D\n",
        "ax1.scatter(english, mathmatics, language)\n",
        "ax1.set_xlabel(\"English\")\n",
        "ax1.set_ylabel(\"Math\")\n",
        "ax1.set_zlabel(\"Language\")\n",
        "\n",
        "ax2 = plt.subplot(2,2,2)\n",
        "ax2.scatter(english, mathmatics)\n",
        "ax2.set_xlabel(\"English\")\n",
        "ax2.set_ylabel(\"Math\")\n",
        "\n",
        "ax3 = plt.subplot(2,2,3)\n",
        "ax3.scatter(mathmatics, language)\n",
        "ax3.set_xlabel(\"Math\")\n",
        "ax3.set_ylabel(\"Language\")\n",
        "\n",
        "ax4 = plt.subplot(2,2,4)\n",
        "ax4.scatter(language, english)\n",
        "ax4.set_xlabel(\"Language\")\n",
        "ax4.set_ylabel(\"English\")"
      ],
      "metadata": {
        "colab": {
          "base_uri": "https://localhost:8080/",
          "height": 515
        },
        "id": "BDZ86RumJseE",
        "outputId": "437df45a-7e4e-4199-adb2-87e152d84e0c"
      },
      "execution_count": null,
      "outputs": [
        {
          "output_type": "execute_result",
          "data": {
            "text/plain": [
              "Text(0, 0.5, 'English')"
            ]
          },
          "metadata": {},
          "execution_count": 24
        },
        {
          "output_type": "display_data",
          "data": {
            "text/plain": [
              "<Figure size 864x576 with 4 Axes>"
            ],
            "image/png": "[encoded data removed]"
          },
          "metadata": {
            "needs_background": "light"
          }
        }
      ]
    },
    {
      "cell_type": "markdown",
      "source": [
        "## （2）回帰分析を行い、散布図に回帰直線を重ねて描画する"
      ],
      "metadata": {
        "id": "eoaJrkruJ0GC"
      }
    },
    {
      "cell_type": "code",
      "source": [
        "import numpy as np\n",
        "import pandas as pd\n",
        "from sklearn.linear_model import LinearRegression # 回帰分析用\n",
        "import matplotlib.pyplot as plt\n",
        "\n",
        "# 単回帰分析を行い、係数と定数項を返す関数（このまま入力すればよい）\n",
        "def regression(x, y):\n",
        "  model = LinearRegression()\n",
        "  xdf = pd.DataFrame(x)\n",
        "  ydf = pd.DataFrame(y)\n",
        "  model.fit(xdf, ydf)\n",
        "  return model.coef_[0][0], model.intercept_[0] # 係数と定数項を返す\n",
        "\n",
        "def linear(x, a, b):\n",
        "  return b + a*x"
      ],
      "metadata": {
        "id": "7wwSWbUrJ1iF"
      },
      "execution_count": null,
      "outputs": []
    },
    {
      "cell_type": "code",
      "source": [
        "# 物件データから、面積と家賃を取り出す\n",
        "url = 'https://raw.githubusercontent.com/Gessys/math/main/data/estate.csv'\n",
        "data = pd.read_csv(url) # リスト23でも使ったpd.read_csv関数を使う\n",
        "area = data['面積'] # 面積の値を取得(pandasのSeries)\n",
        "price = data['家賃'] # 家賃の値を取得(pandasのSeries)\n",
        "\n",
        "# 単回帰分析により、係数aと定数項bを求める\n",
        "a, b = regression(area, price)\n",
        "print(a, b) # グラフの描画には必要ないので後で消しておくとよい\n",
        "# 出力例：0.2576662166166691 1.138186363488293\n",
        "\n",
        "# 指定した関数funcを基に、xminからxmaxまで、step刻みでデータを作る（前回作成したもの）\n",
        "def makedata(func, xmin, xmax, step, **args):\n",
        "  x = np.arange(xmin, xmax, step)\n",
        "  y = func(x, **args)\n",
        "  return x, y"
      ],
      "metadata": {
        "colab": {
          "base_uri": "https://localhost:8080/"
        },
        "id": "vDEyJvthQcI1",
        "outputId": "e1281ea1-bd48-4c54-96aa-f6a2cdd216d2"
      },
      "execution_count": null,
      "outputs": [
        {
          "output_type": "stream",
          "name": "stdout",
          "text": [
            "0.2576662166166691 1.138186363488293\n"
          ]
        }
      ]
    },
    {
      "cell_type": "code",
      "source": [
        "# 指定した関数funcを基に、xminからxmaxまで、step刻みでデータを作る（前回作成したもの）\n",
        "def makedata(func, xmin, xmax, step, **args):\n",
        "  x = np.arange(xmin, xmax, step)\n",
        "  y = func(x, **args)\n",
        "  return x, y\n",
        "\n",
        "# 回帰直線のためのデータを作成する\n",
        "xmin = min(area) # 面積の最小値\n",
        "xmax = max(area) # 面積の最大値\n",
        "args = {'a': a, 'b': b}\n",
        "x, y = makedata(linear, xmin, xmax, 0.1, **args)"
      ],
      "metadata": {
        "id": "HgML0OX5Ql1l"
      },
      "execution_count": null,
      "outputs": []
    },
    {
      "cell_type": "code",
      "source": [
        "# 散布図と回帰直線を描画する\n",
        "plt.scatter(area, price)\n",
        "plt.plot(x, y, linestyle='dotted')"
      ],
      "metadata": {
        "colab": {
          "base_uri": "https://localhost:8080/",
          "height": 282
        },
        "id": "uggX1UvQRQeV",
        "outputId": "09ef95b2-1747-4513-e594-fa829e147e20"
      },
      "execution_count": null,
      "outputs": [
        {
          "output_type": "execute_result",
          "data": {
            "text/plain": [
              "[<matplotlib.lines.Line2D at 0x7fc4f3b135b0>]"
            ]
          },
          "metadata": {},
          "execution_count": 28
        },
        {
          "output_type": "display_data",
          "data": {
            "text/plain": [
              "<Figure size 432x288 with 1 Axes>"
            ],
            "image/png": "[encoded data removed]"
          },
          "metadata": {
            "needs_background": "light"
          }
        }
      ]
    },
    {
      "cell_type": "code",
      "source": [],
      "metadata": {
        "id": "XWe3JzP2RjQV"
      },
      "execution_count": null,
      "outputs": []
    }
  ]
}