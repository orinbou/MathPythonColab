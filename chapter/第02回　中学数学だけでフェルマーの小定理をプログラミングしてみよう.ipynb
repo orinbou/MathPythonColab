{
  "nbformat": 4,
  "nbformat_minor": 0,
  "metadata": {
    "colab": {
      "provenance": [],
      "toc_visible": true,
      "authorship_tag": "ABX9TyOAnMUoT6Zu64SRx9dZ5CqH",
      "include_colab_link": true
    },
    "kernelspec": {
      "name": "python3",
      "display_name": "Python 3"
    },
    "language_info": {
      "name": "python"
    }
  },
  "cells": [
    {
      "cell_type": "markdown",
      "metadata": {
        "id": "view-in-github",
        "colab_type": "text"
      },
      "source": [
        "<a href=\"https://colab.research.google.com/github/orinbou/MathPythonColab/blob/main/chapter/%E7%AC%AC2%E5%9B%9E%E3%80%80%E4%B8%AD%E5%AD%A6%E6%95%B0%E5%AD%A6%E3%81%A0%E3%81%91%E3%81%A7%E3%83%95%E3%82%A7%E3%83%AB%E3%83%9E%E3%83%BC%E3%81%AE%E5%B0%8F%E5%AE%9A%E7%90%86%E3%82%92%E3%83%97%E3%83%AD%E3%82%B0%E3%83%A9%E3%83%9F%E3%83%B3%E3%82%B0%E3%81%97%E3%81%A6%E3%81%BF%E3%82%88%E3%81%86.ipynb\" target=\"_parent\"><img src=\"https://colab.research.google.com/assets/colab-badge.svg\" alt=\"Open In Colab\"/></a>"
      ]
    },
    {
      "cell_type": "markdown",
      "source": [
        "[リンクテキスト](https://)# 中学数学だけでフェルマーの小定理をプログラミングしてみよう\n",
        "自然数aとpが互いに素であるとき、\n",
        "aのp-1乗をpで割った余りが1になるというものです。\n",
        "\n",
        "a = 16348039, p=3571 の場合の例で確かめてみる。"
      ],
      "metadata": {
        "id": "uE6L0riHUmAQ"
      }
    },
    {
      "cell_type": "code",
      "source": [
        "16348039**(3571-1)%3571"
      ],
      "metadata": {
        "colab": {
          "base_uri": "https://localhost:8080/"
        },
        "id": "WsU5SAkYWTtJ",
        "outputId": "52114b71-49b2-42c7-c374-ac49b6cc08b2"
      },
      "execution_count": null,
      "outputs": [
        {
          "output_type": "execute_result",
          "data": {
            "text/plain": [
              "1"
            ]
          },
          "metadata": {},
          "execution_count": 6
        }
      ]
    },
    {
      "cell_type": "code",
      "source": [
        "a=16348039\n",
        "p=3571\n",
        "a**(p-1)%p"
      ],
      "metadata": {
        "colab": {
          "base_uri": "https://localhost:8080/"
        },
        "id": "PN4U8a_zXMM2",
        "outputId": "27b9fa3d-d804-448d-9178-bb19917998dc"
      },
      "execution_count": null,
      "outputs": [
        {
          "output_type": "execute_result",
          "data": {
            "text/plain": [
              "1"
            ]
          },
          "metadata": {},
          "execution_count": 7
        }
      ]
    },
    {
      "cell_type": "code",
      "source": [
        "def fermat_little(a, p):\n",
        "  return a**(p-1)%p"
      ],
      "metadata": {
        "id": "tFUmobNHXYRt"
      },
      "execution_count": null,
      "outputs": []
    },
    {
      "cell_type": "code",
      "source": [
        "fermat_little(16348039, 3571)"
      ],
      "metadata": {
        "colab": {
          "base_uri": "https://localhost:8080/"
        },
        "id": "Gavt-ID3XptW",
        "outputId": "a65b61ac-7875-4bd6-c0ad-1ee7e85da8bc"
      },
      "execution_count": null,
      "outputs": [
        {
          "output_type": "execute_result",
          "data": {
            "text/plain": [
              "1"
            ]
          },
          "metadata": {},
          "execution_count": 9
        }
      ]
    },
    {
      "cell_type": "markdown",
      "source": [
        "# 「アンドリカの予想」「超球の体積」をプログラミングしてみよう"
      ],
      "metadata": {
        "id": "-wQJhHNXX6GR"
      }
    },
    {
      "cell_type": "markdown",
      "source": [
        "## 練習問題1：アンドリカの予想"
      ],
      "metadata": {
        "id": "_Hp9CVvibsUn"
      }
    },
    {
      "cell_type": "code",
      "source": [
        "import math\n",
        "def andrica(p, q):\n",
        "  return math.sqrt(q)-math.sqrt(p)"
      ],
      "metadata": {
        "id": "pFHr5dYFYDC0"
      },
      "execution_count": null,
      "outputs": []
    },
    {
      "cell_type": "code",
      "source": [
        "andrica(9967, 9973)"
      ],
      "metadata": {
        "colab": {
          "base_uri": "https://localhost:8080/"
        },
        "id": "6DcPSPGkYQiO",
        "outputId": "33b22a12-988a-4662-9266-c8938230ea2b"
      },
      "execution_count": null,
      "outputs": [
        {
          "output_type": "execute_result",
          "data": {
            "text/plain": [
              "0.03004510184382525"
            ]
          },
          "metadata": {},
          "execution_count": 20
        }
      ]
    },
    {
      "cell_type": "markdown",
      "source": [
        "## 練習問題2：超球の体積"
      ],
      "metadata": {
        "id": "3bG4vdKdYms7"
      }
    },
    {
      "cell_type": "code",
      "source": [
        "import math\n",
        "def nsphere_volume(n):\n",
        "  v = math.pi**(n/2) / math.gamma(n/2+1)\n",
        "  return v"
      ],
      "metadata": {
        "id": "lWB0AqqmYYgG"
      },
      "execution_count": null,
      "outputs": []
    },
    {
      "cell_type": "code",
      "source": [
        "nsphere_volume(4)"
      ],
      "metadata": {
        "colab": {
          "base_uri": "https://localhost:8080/"
        },
        "id": "HlKYCIGDZD4e",
        "outputId": "382d2d41-190c-40f0-97b1-2bb9202f2c3b"
      },
      "execution_count": null,
      "outputs": [
        {
          "output_type": "execute_result",
          "data": {
            "text/plain": [
              "4.934802200544679"
            ]
          },
          "metadata": {},
          "execution_count": 17
        }
      ]
    },
    {
      "cell_type": "code",
      "source": [
        "nsphere_volume(100)"
      ],
      "metadata": {
        "colab": {
          "base_uri": "https://localhost:8080/"
        },
        "id": "-2QTi5tgZGYW",
        "outputId": "05d6a6c9-d351-454a-fc01-9f6443403aaf"
      },
      "execution_count": null,
      "outputs": [
        {
          "output_type": "execute_result",
          "data": {
            "text/plain": [
              "2.3682021018828293e-40"
            ]
          },
          "metadata": {},
          "execution_count": 18
        }
      ]
    }
  ]
}