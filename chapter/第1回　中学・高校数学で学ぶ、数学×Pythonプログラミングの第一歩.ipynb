{
  "nbformat": 4,
  "nbformat_minor": 0,
  "metadata": {
    "colab": {
      "provenance": [],
      "authorship_tag": "ABX9TyMOct7t9jKRR8kxmRpsNLJe",
      "include_colab_link": true
    },
    "kernelspec": {
      "name": "python3",
      "display_name": "Python 3"
    },
    "language_info": {
      "name": "python"
    }
  },
  "cells": [
    {
      "cell_type": "markdown",
      "metadata": {
        "id": "view-in-github",
        "colab_type": "text"
      },
      "source": [
        "<a href=\"https://colab.research.google.com/github/orinbou/MathPythonColab/blob/main/chapter/%E7%AC%AC1%E5%9B%9E%E3%80%80%E4%B8%AD%E5%AD%A6%E3%83%BB%E9%AB%98%E6%A0%A1%E6%95%B0%E5%AD%A6%E3%81%A7%E5%AD%A6%E3%81%B6%E3%80%81%E6%95%B0%E5%AD%A6%C3%97Python%E3%83%97%E3%83%AD%E3%82%B0%E3%83%A9%E3%83%9F%E3%83%B3%E3%82%B0%E3%81%AE%E7%AC%AC%E4%B8%80%E6%AD%A9.ipynb\" target=\"_parent\"><img src=\"https://colab.research.google.com/assets/colab-badge.svg\" alt=\"Open In Colab\"/></a>"
      ]
    },
    {
      "cell_type": "markdown",
      "source": [
        "# フィボナッチ数列の先頭からn個分のリストを作るプログラムの作成例"
      ],
      "metadata": {
        "id": "qxIJ02ocbMZW"
      }
    },
    {
      "cell_type": "code",
      "execution_count": 1,
      "metadata": {
        "id": "h1nKH_bTbBVz",
        "colab": {
          "base_uri": "https://localhost:8080/"
        },
        "outputId": "4f4cc719-62e5-4b2d-dd54-d47e78aa0c58"
      },
      "outputs": [
        {
          "output_type": "execute_result",
          "data": {
            "text/plain": [
              "[0, 1, 1, 2, 3, 5, 8, 13, 21, 34]"
            ]
          },
          "metadata": {},
          "execution_count": 1
        }
      ],
      "source": [
        "def makefib(n): # 関数の定義\n",
        "  fib = []\n",
        "  for i in range(0,n):\n",
        "    if i == 0 or i == 1:\n",
        "      fib.append(i)\n",
        "    else:\n",
        "      fib.append(fib[i-2]+fib[i-1])\n",
        "  return fib\n",
        "\n",
        "makefib(10) # 関数を呼び出して先頭から10項分を表示する\n",
        "# 出力例:[0, 1, 1, 2, 3, 5, 8, 13, 21, 34]"
      ]
    },
    {
      "cell_type": "markdown",
      "source": [
        "# ベクトルの内積を求めるプログラム"
      ],
      "metadata": {
        "id": "WxwVgtebbcS9"
      }
    },
    {
      "cell_type": "code",
      "source": [
        "def inner_product(x,y): # 関数の定義\n",
        "  sum = 0\n",
        "  for i in range(0,len(x)): # xとyは同じ次元であるものとする\n",
        "    sum += x[i]*y[i]\n",
        "  return sum\n",
        "\n",
        "inner_product([2,3],[4,5]) # 関数を呼び出して[2,3]と[4,5]の内積を求める\n",
        "# 出力例:23"
      ],
      "metadata": {
        "colab": {
          "base_uri": "https://localhost:8080/"
        },
        "id": "J_QcN0wVbdG2",
        "outputId": "93526fd8-5ffb-498f-d478-34d0398c3f1e"
      },
      "execution_count": 2,
      "outputs": [
        {
          "output_type": "execute_result",
          "data": {
            "text/plain": [
              "23"
            ]
          },
          "metadata": {},
          "execution_count": 2
        }
      ]
    },
    {
      "cell_type": "code",
      "source": [],
      "metadata": {
        "id": "n_l8Tsd7begl"
      },
      "execution_count": null,
      "outputs": []
    }
  ]
}